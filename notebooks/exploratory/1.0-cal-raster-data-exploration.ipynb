{
 "cells": [
  {
   "cell_type": "code",
   "execution_count": 9,
   "metadata": {},
   "outputs": [],
   "source": [
    "import pandas as pd\n",
    "import numpy as np\n",
    "import geopandas as gpd\n",
    "import rasterio\n",
    "from rasterio.plot import show\n",
    "\n",
    "import os, h5py\n",
    "from pathlib import Path\n",
    "\n",
    "import holoviews as hv"
   ]
  },
  {
   "attachments": {},
   "cell_type": "markdown",
   "metadata": {},
   "source": [
    "rasterio use example: https://www.kaggle.com/code/bowaka/hubmap-eda-starter-notebook-with-rasterio"
   ]
  },
  {
   "attachments": {},
   "cell_type": "markdown",
   "metadata": {},
   "source": [
    " # LiDAR Data"
   ]
  },
  {
   "cell_type": "code",
   "execution_count": 10,
   "metadata": {},
   "outputs": [],
   "source": [
    "WFCalcRi_TerainR_loc = Path(r\"C:\\Users\\christianl\\repos\\lwi-apps\\simulation\\03_Terrain\\SupportingFiles\\WestFork_3x3_Feet_1MileBuffer_20220511_Modified-3.tif\")"
   ]
  },
  {
   "cell_type": "code",
   "execution_count": 11,
   "metadata": {},
   "outputs": [],
   "source": [
    "wfCaclRi_dataset = rasterio.open(WFCalcRi_TerainR_loc)"
   ]
  },
  {
   "cell_type": "code",
   "execution_count": 12,
   "metadata": {},
   "outputs": [
    {
     "data": {
      "text/plain": [
       "{'driver': 'GTiff',\n",
       " 'dtype': 'float32',\n",
       " 'nodata': 3.3999999521443642e+38,\n",
       " 'width': 58101,\n",
       " 'height': 77740,\n",
       " 'count': 1,\n",
       " 'crs': CRS.from_epsg(6479),\n",
       " 'transform': Affine(3.0, 0.0, 2537651.604807256,\n",
       "        0.0, -3.0, 872222.9801846807)}"
      ]
     },
     "execution_count": 12,
     "metadata": {},
     "output_type": "execute_result"
    }
   ],
   "source": [
    "wfCaclRi_dataset.meta"
   ]
  },
  {
   "cell_type": "code",
   "execution_count": 1,
   "metadata": {},
   "outputs": [],
   "source": [
    "# show(wfCaclRi_dataset)"
   ]
  },
  {
   "cell_type": "code",
   "execution_count": null,
   "metadata": {},
   "outputs": [],
   "source": []
  }
 ],
 "metadata": {
  "kernelspec": {
   "display_name": "lwi-apps",
   "language": "python",
   "name": "python3"
  },
  "language_info": {
   "codemirror_mode": {
    "name": "ipython",
    "version": 3
   },
   "file_extension": ".py",
   "mimetype": "text/x-python",
   "name": "python",
   "nbconvert_exporter": "python",
   "pygments_lexer": "ipython3",
   "version": "3.10.8"
  },
  "orig_nbformat": 4,
  "vscode": {
   "interpreter": {
    "hash": "4f4606d988262abfc88719a279f7be0e35d912993e56029b0ee5397d897cb266"
   }
  }
 },
 "nbformat": 4,
 "nbformat_minor": 2
}
