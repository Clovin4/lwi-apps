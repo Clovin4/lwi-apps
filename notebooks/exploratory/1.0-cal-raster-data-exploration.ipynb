{
 "cells": [
  {
   "cell_type": "code",
   "execution_count": 9,
   "metadata": {},
   "outputs": [],
   "source": [
    "import pandas as pd\n",
    "import numpy as np\n",
    "import geopandas as gpd\n",
    "import rasterio\n",
    "from rasterio.plot import show\n",
    "\n",
    "import os, h5py\n",
    "from pathlib import Path\n",
    "\n",
    "import holoviews as hv"
   ]
  },
  {
   "attachments": {},
   "cell_type": "markdown",
   "metadata": {},
   "source": [
    "rasterio use example: https://www.kaggle.com/code/bowaka/hubmap-eda-starter-notebook-with-rasterio"
   ]
  },
  {
   "attachments": {},
   "cell_type": "markdown",
   "metadata": {},
   "source": [
    " # LiDAR Data"
   ]
  },
  {
   "cell_type": "code",
   "execution_count": 10,
   "metadata": {},
   "outputs": [],
   "source": [
    "WFCalcRi_TerainR_loc = Path(r\"C:\\Users\\christianl\\repos\\lwi-apps\\simulation\\03_Terrain\\SupportingFiles\\WestFork_3x3_Feet_1MileBuffer_20220511_Modified-3.tif\")"
   ]
  },
  {
   "cell_type": "code",
   "execution_count": 11,
   "metadata": {},
   "outputs": [],
   "source": [
    "wfCaclRi_dataset = rasterio.open(WFCalcRi_TerainR_loc)"
   ]
  },
  {
   "cell_type": "code",
   "execution_count": 12,
   "metadata": {},
   "outputs": [
    {
     "data": {
      "text/plain": [
       "{'driver': 'GTiff',\n",
       " 'dtype': 'float32',\n",
       " 'nodata': 3.3999999521443642e+38,\n",
       " 'width': 58101,\n",
       " 'height': 77740,\n",
       " 'count': 1,\n",
       " 'crs': CRS.from_epsg(6479),\n",
       " 'transform': Affine(3.0, 0.0, 2537651.604807256,\n",
       "        0.0, -3.0, 872222.9801846807)}"
      ]
     },
     "execution_count": 12,
     "metadata": {},
     "output_type": "execute_result"
    }
   ],
   "source": [
    "wfCaclRi_dataset.meta"
   ]
  },
  {
   "cell_type": "code",
   "execution_count": 13,
   "metadata": {},
   "outputs": [
    {
     "ename": "KeyboardInterrupt",
     "evalue": "",
     "output_type": "error",
     "traceback": [
      "\u001b[1;31m---------------------------------------------------------------------------\u001b[0m",
      "\u001b[1;31mKeyboardInterrupt\u001b[0m                         Traceback (most recent call last)",
      "Cell \u001b[1;32mIn[13], line 1\u001b[0m\n\u001b[1;32m----> 1\u001b[0m show(wfCaclRi_dataset)\n",
      "File \u001b[1;32mc:\\Users\\christianl\\Anaconda3\\envs\\lwi-apps\\lib\\site-packages\\rasterio\\plot.py:147\u001b[0m, in \u001b[0;36mshow\u001b[1;34m(source, with_bounds, contour, contour_label_kws, ax, title, transform, adjust, **kwargs)\u001b[0m\n\u001b[0;32m    145\u001b[0m         ax\u001b[39m.\u001b[39mclabel(C, \u001b[39m*\u001b[39m\u001b[39m*\u001b[39mcontour_label_kws)\n\u001b[0;32m    146\u001b[0m \u001b[39melse\u001b[39;00m:\n\u001b[1;32m--> 147\u001b[0m     ax\u001b[39m.\u001b[39mimshow(arr, \u001b[39m*\u001b[39m\u001b[39m*\u001b[39mkwargs)\n\u001b[0;32m    148\u001b[0m \u001b[39mif\u001b[39;00m title:\n\u001b[0;32m    149\u001b[0m     ax\u001b[39m.\u001b[39mset_title(title, fontweight\u001b[39m=\u001b[39m\u001b[39m'\u001b[39m\u001b[39mbold\u001b[39m\u001b[39m'\u001b[39m)\n",
      "File \u001b[1;32mc:\\Users\\christianl\\Anaconda3\\envs\\lwi-apps\\lib\\site-packages\\matplotlib\\_api\\deprecation.py:454\u001b[0m, in \u001b[0;36mmake_keyword_only.<locals>.wrapper\u001b[1;34m(*args, **kwargs)\u001b[0m\n\u001b[0;32m    448\u001b[0m \u001b[39mif\u001b[39;00m \u001b[39mlen\u001b[39m(args) \u001b[39m>\u001b[39m name_idx:\n\u001b[0;32m    449\u001b[0m     warn_deprecated(\n\u001b[0;32m    450\u001b[0m         since, message\u001b[39m=\u001b[39m\u001b[39m\"\u001b[39m\u001b[39mPassing the \u001b[39m\u001b[39m%(name)s\u001b[39;00m\u001b[39m \u001b[39m\u001b[39m%(obj_type)s\u001b[39;00m\u001b[39m \u001b[39m\u001b[39m\"\u001b[39m\n\u001b[0;32m    451\u001b[0m         \u001b[39m\"\u001b[39m\u001b[39mpositionally is deprecated since Matplotlib \u001b[39m\u001b[39m%(since)s\u001b[39;00m\u001b[39m; the \u001b[39m\u001b[39m\"\u001b[39m\n\u001b[0;32m    452\u001b[0m         \u001b[39m\"\u001b[39m\u001b[39mparameter will become keyword-only \u001b[39m\u001b[39m%(removal)s\u001b[39;00m\u001b[39m.\u001b[39m\u001b[39m\"\u001b[39m,\n\u001b[0;32m    453\u001b[0m         name\u001b[39m=\u001b[39mname, obj_type\u001b[39m=\u001b[39m\u001b[39mf\u001b[39m\u001b[39m\"\u001b[39m\u001b[39mparameter of \u001b[39m\u001b[39m{\u001b[39;00mfunc\u001b[39m.\u001b[39m\u001b[39m__name__\u001b[39m\u001b[39m}\u001b[39;00m\u001b[39m()\u001b[39m\u001b[39m\"\u001b[39m)\n\u001b[1;32m--> 454\u001b[0m \u001b[39mreturn\u001b[39;00m func(\u001b[39m*\u001b[39margs, \u001b[39m*\u001b[39m\u001b[39m*\u001b[39mkwargs)\n",
      "File \u001b[1;32mc:\\Users\\christianl\\Anaconda3\\envs\\lwi-apps\\lib\\site-packages\\matplotlib\\__init__.py:1423\u001b[0m, in \u001b[0;36m_preprocess_data.<locals>.inner\u001b[1;34m(ax, data, *args, **kwargs)\u001b[0m\n\u001b[0;32m   1420\u001b[0m \u001b[39m@functools\u001b[39m\u001b[39m.\u001b[39mwraps(func)\n\u001b[0;32m   1421\u001b[0m \u001b[39mdef\u001b[39;00m \u001b[39minner\u001b[39m(ax, \u001b[39m*\u001b[39margs, data\u001b[39m=\u001b[39m\u001b[39mNone\u001b[39;00m, \u001b[39m*\u001b[39m\u001b[39m*\u001b[39mkwargs):\n\u001b[0;32m   1422\u001b[0m     \u001b[39mif\u001b[39;00m data \u001b[39mis\u001b[39;00m \u001b[39mNone\u001b[39;00m:\n\u001b[1;32m-> 1423\u001b[0m         \u001b[39mreturn\u001b[39;00m func(ax, \u001b[39m*\u001b[39m\u001b[39mmap\u001b[39m(sanitize_sequence, args), \u001b[39m*\u001b[39m\u001b[39m*\u001b[39mkwargs)\n\u001b[0;32m   1425\u001b[0m     bound \u001b[39m=\u001b[39m new_sig\u001b[39m.\u001b[39mbind(ax, \u001b[39m*\u001b[39margs, \u001b[39m*\u001b[39m\u001b[39m*\u001b[39mkwargs)\n\u001b[0;32m   1426\u001b[0m     auto_label \u001b[39m=\u001b[39m (bound\u001b[39m.\u001b[39marguments\u001b[39m.\u001b[39mget(label_namer)\n\u001b[0;32m   1427\u001b[0m                   \u001b[39mor\u001b[39;00m bound\u001b[39m.\u001b[39mkwargs\u001b[39m.\u001b[39mget(label_namer))\n",
      "File \u001b[1;32mc:\\Users\\christianl\\Anaconda3\\envs\\lwi-apps\\lib\\site-packages\\matplotlib\\axes\\_axes.py:5609\u001b[0m, in \u001b[0;36mAxes.imshow\u001b[1;34m(self, X, cmap, norm, aspect, interpolation, alpha, vmin, vmax, origin, extent, interpolation_stage, filternorm, filterrad, resample, url, **kwargs)\u001b[0m\n\u001b[0;32m   5606\u001b[0m \u001b[39mif\u001b[39;00m im\u001b[39m.\u001b[39mget_clip_path() \u001b[39mis\u001b[39;00m \u001b[39mNone\u001b[39;00m:\n\u001b[0;32m   5607\u001b[0m     \u001b[39m# image does not already have clipping set, clip to axes patch\u001b[39;00m\n\u001b[0;32m   5608\u001b[0m     im\u001b[39m.\u001b[39mset_clip_path(\u001b[39mself\u001b[39m\u001b[39m.\u001b[39mpatch)\n\u001b[1;32m-> 5609\u001b[0m im\u001b[39m.\u001b[39;49m_scale_norm(norm, vmin, vmax)\n\u001b[0;32m   5610\u001b[0m im\u001b[39m.\u001b[39mset_url(url)\n\u001b[0;32m   5612\u001b[0m \u001b[39m# update ax.dataLim, and, if autoscaling, set viewLim\u001b[39;00m\n\u001b[0;32m   5613\u001b[0m \u001b[39m# to tightly fit the image, regardless of dataLim.\u001b[39;00m\n",
      "File \u001b[1;32mc:\\Users\\christianl\\Anaconda3\\envs\\lwi-apps\\lib\\site-packages\\matplotlib\\cm.py:443\u001b[0m, in \u001b[0;36mScalarMappable._scale_norm\u001b[1;34m(self, norm, vmin, vmax)\u001b[0m\n\u001b[0;32m    436\u001b[0m         \u001b[39mraise\u001b[39;00m \u001b[39mValueError\u001b[39;00m(\n\u001b[0;32m    437\u001b[0m             \u001b[39m\"\u001b[39m\u001b[39mPassing a Normalize instance simultaneously with \u001b[39m\u001b[39m\"\u001b[39m\n\u001b[0;32m    438\u001b[0m             \u001b[39m\"\u001b[39m\u001b[39mvmin/vmax is not supported.  Please pass vmin/vmax \u001b[39m\u001b[39m\"\u001b[39m\n\u001b[0;32m    439\u001b[0m             \u001b[39m\"\u001b[39m\u001b[39mdirectly to the norm when creating it.\u001b[39m\u001b[39m\"\u001b[39m)\n\u001b[0;32m    441\u001b[0m \u001b[39m# always resolve the autoscaling so we have concrete limits\u001b[39;00m\n\u001b[0;32m    442\u001b[0m \u001b[39m# rather than deferring to draw time.\u001b[39;00m\n\u001b[1;32m--> 443\u001b[0m \u001b[39mself\u001b[39;49m\u001b[39m.\u001b[39;49mautoscale_None()\n",
      "File \u001b[1;32mc:\\Users\\christianl\\Anaconda3\\envs\\lwi-apps\\lib\\site-packages\\matplotlib\\cm.py:676\u001b[0m, in \u001b[0;36mScalarMappable.autoscale_None\u001b[1;34m(self)\u001b[0m\n\u001b[0;32m    673\u001b[0m     \u001b[39mraise\u001b[39;00m \u001b[39mTypeError\u001b[39;00m(\u001b[39m'\u001b[39m\u001b[39mYou must first set_array for mappable\u001b[39m\u001b[39m'\u001b[39m)\n\u001b[0;32m    674\u001b[0m \u001b[39m# If the norm's limits are updated self.changed() will be called\u001b[39;00m\n\u001b[0;32m    675\u001b[0m \u001b[39m# through the callbacks attached to the norm\u001b[39;00m\n\u001b[1;32m--> 676\u001b[0m \u001b[39mself\u001b[39;49m\u001b[39m.\u001b[39;49mnorm\u001b[39m.\u001b[39;49mautoscale_None(\u001b[39mself\u001b[39;49m\u001b[39m.\u001b[39;49m_A)\n",
      "File \u001b[1;32mc:\\Users\\christianl\\Anaconda3\\envs\\lwi-apps\\lib\\site-packages\\matplotlib\\colors.py:1382\u001b[0m, in \u001b[0;36mNormalize.autoscale_None\u001b[1;34m(self, A)\u001b[0m\n\u001b[0;32m   1380\u001b[0m A \u001b[39m=\u001b[39m np\u001b[39m.\u001b[39masanyarray(A)\n\u001b[0;32m   1381\u001b[0m \u001b[39mif\u001b[39;00m \u001b[39mself\u001b[39m\u001b[39m.\u001b[39mvmin \u001b[39mis\u001b[39;00m \u001b[39mNone\u001b[39;00m \u001b[39mand\u001b[39;00m A\u001b[39m.\u001b[39msize:\n\u001b[1;32m-> 1382\u001b[0m     \u001b[39mself\u001b[39m\u001b[39m.\u001b[39mvmin \u001b[39m=\u001b[39m A\u001b[39m.\u001b[39;49mmin()\n\u001b[0;32m   1383\u001b[0m \u001b[39mif\u001b[39;00m \u001b[39mself\u001b[39m\u001b[39m.\u001b[39mvmax \u001b[39mis\u001b[39;00m \u001b[39mNone\u001b[39;00m \u001b[39mand\u001b[39;00m A\u001b[39m.\u001b[39msize:\n\u001b[0;32m   1384\u001b[0m     \u001b[39mself\u001b[39m\u001b[39m.\u001b[39mvmax \u001b[39m=\u001b[39m A\u001b[39m.\u001b[39mmax()\n",
      "File \u001b[1;32mc:\\Users\\christianl\\Anaconda3\\envs\\lwi-apps\\lib\\site-packages\\numpy\\ma\\core.py:5748\u001b[0m, in \u001b[0;36mMaskedArray.min\u001b[1;34m(self, axis, out, fill_value, keepdims)\u001b[0m\n\u001b[0;32m   5746\u001b[0m \u001b[39m# No explicit output\u001b[39;00m\n\u001b[0;32m   5747\u001b[0m \u001b[39mif\u001b[39;00m out \u001b[39mis\u001b[39;00m \u001b[39mNone\u001b[39;00m:\n\u001b[1;32m-> 5748\u001b[0m     result \u001b[39m=\u001b[39m \u001b[39mself\u001b[39;49m\u001b[39m.\u001b[39;49mfilled(fill_value)\u001b[39m.\u001b[39mmin(\n\u001b[0;32m   5749\u001b[0m         axis\u001b[39m=\u001b[39maxis, out\u001b[39m=\u001b[39mout, \u001b[39m*\u001b[39m\u001b[39m*\u001b[39mkwargs)\u001b[39m.\u001b[39mview(\u001b[39mtype\u001b[39m(\u001b[39mself\u001b[39m))\n\u001b[0;32m   5750\u001b[0m     \u001b[39mif\u001b[39;00m result\u001b[39m.\u001b[39mndim:\n\u001b[0;32m   5751\u001b[0m         \u001b[39m# Set the mask\u001b[39;00m\n\u001b[0;32m   5752\u001b[0m         result\u001b[39m.\u001b[39m__setmask__(newmask)\n",
      "File \u001b[1;32mc:\\Users\\christianl\\Anaconda3\\envs\\lwi-apps\\lib\\site-packages\\numpy\\ma\\core.py:3839\u001b[0m, in \u001b[0;36mMaskedArray.filled\u001b[1;34m(self, fill_value)\u001b[0m\n\u001b[0;32m   3837\u001b[0m     \u001b[39mreturn\u001b[39;00m \u001b[39mself\u001b[39m\u001b[39m.\u001b[39m_data\n\u001b[0;32m   3838\u001b[0m \u001b[39melse\u001b[39;00m:\n\u001b[1;32m-> 3839\u001b[0m     result \u001b[39m=\u001b[39m \u001b[39mself\u001b[39;49m\u001b[39m.\u001b[39;49m_data\u001b[39m.\u001b[39;49mcopy(\u001b[39m'\u001b[39;49m\u001b[39mK\u001b[39;49m\u001b[39m'\u001b[39;49m)\n\u001b[0;32m   3840\u001b[0m     \u001b[39mtry\u001b[39;00m:\n\u001b[0;32m   3841\u001b[0m         np\u001b[39m.\u001b[39mcopyto(result, fill_value, where\u001b[39m=\u001b[39mm)\n",
      "\u001b[1;31mKeyboardInterrupt\u001b[0m: "
     ]
    },
    {
     "data": {
      "image/png": "[encoded data removed]",
      "text/plain": [
       "<Figure size 640x480 with 1 Axes>"
      ]
     },
     "metadata": {},
     "output_type": "display_data"
    }
   ],
   "source": [
    "show(wfCaclRi_dataset)"
   ]
  },
  {
   "cell_type": "code",
   "execution_count": null,
   "metadata": {},
   "outputs": [],
   "source": []
  }
 ],
 "metadata": {
  "kernelspec": {
   "display_name": "lwi-apps",
   "language": "python",
   "name": "python3"
  },
  "language_info": {
   "codemirror_mode": {
    "name": "ipython",
    "version": 3
   },
   "file_extension": ".py",
   "mimetype": "text/x-python",
   "name": "python",
   "nbconvert_exporter": "python",
   "pygments_lexer": "ipython3",
   "version": "3.10.8"
  },
  "orig_nbformat": 4,
  "vscode": {
   "interpreter": {
    "hash": "4f4606d988262abfc88719a279f7be0e35d912993e56029b0ee5397d897cb266"
   }
  }
 },
 "nbformat": 4,
 "nbformat_minor": 2
}
