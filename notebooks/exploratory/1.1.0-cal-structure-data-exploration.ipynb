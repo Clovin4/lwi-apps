{
 "cells": [
  {
   "cell_type": "code",
   "execution_count": null,
   "metadata": {},
   "outputs": [],
   "source": [
    "import pandas as pd\n",
    "import numpy as np\n",
    "import geopandas as gpd\n",
    "import rasterio\n",
    "\n",
    "import os, h5py\n",
    "from pathlib import Path\n",
    "import openpyxl\n",
    "\n",
    "import holoviews as hv\n"
   ]
  },
  {
   "cell_type": "code",
   "execution_count": null,
   "metadata": {},
   "outputs": [],
   "source": [
    "%run -n C:\\Users\\christianl\\repos\\lwi-apps\\src\\utility_code.py"
   ]
  },
  {
   "cell_type": "code",
   "execution_count": null,
   "metadata": {},
   "outputs": [],
   "source": [
    "model=ras.get_model_paths('../../simulation/')"
   ]
  },
  {
   "cell_type": "code",
   "execution_count": null,
   "metadata": {},
   "outputs": [],
   "source": [
    "model.index"
   ]
  },
  {
   "cell_type": "code",
   "execution_count": null,
   "metadata": {},
   "outputs": [],
   "source": [
    "# struct_attrs.columns=struct_attrs.columns.str.replace(' ','_').str.lower()"
   ]
  },
  {
   "cell_type": "code",
   "execution_count": null,
   "metadata": {},
   "outputs": [],
   "source": [
    "ctrl01_c=model.geom_file_hdf.ctrl01_laura2020_c\n",
    "ctrl01_c"
   ]
  },
  {
   "cell_type": "code",
   "execution_count": null,
   "metadata": {},
   "outputs": [],
   "source": [
    "ras.get_structure_attrs(ctrl01_c)"
   ]
  },
  {
   "attachments": {},
   "cell_type": "markdown",
   "metadata": {},
   "source": [
    " ### Compare CPPJ Rankings and Modeled Structures - 01-16-2023"
   ]
  },
  {
   "cell_type": "code",
   "execution_count": null,
   "metadata": {},
   "outputs": [],
   "source": [
    "wf_structures_ranked_loc = r'C:\\Users\\christianl\\repos\\lwi-apps\\data\\interim\\WF_CPPJStructures_Ranked.xlsx'\n",
    "wf_structures_ranked = pd.read_excel(wf_structures_ranked_loc)"
   ]
  },
  {
   "cell_type": "code",
   "execution_count": null,
   "metadata": {},
   "outputs": [],
   "source": [
    "wf_structures_ranked_name_set = set(wf_structures_ranked.Name)"
   ]
  },
  {
   "cell_type": "code",
   "execution_count": null,
   "metadata": {},
   "outputs": [],
   "source": [
    "hdf_loc = Path(r'C:\\Users\\christianl\\repos\\WF_Analysis\\read_hdf\\WF_WestForkCalcasieu.g04.hdf')"
   ]
  },
  {
   "cell_type": "code",
   "execution_count": null,
   "metadata": {},
   "outputs": [],
   "source": [
    "model_structures = ras.get_hdf_datasets(hdf_loc)"
   ]
  },
  {
   "cell_type": "code",
   "execution_count": null,
   "metadata": {},
   "outputs": [],
   "source": [
    "model_structure_name_set = set(model_structures.Connection)"
   ]
  },
  {
   "attachments": {},
   "cell_type": "markdown",
   "metadata": {},
   "source": [
    "compare names"
   ]
  },
  {
   "cell_type": "code",
   "execution_count": null,
   "metadata": {},
   "outputs": [],
   "source": [
    "wf_structures_ranked_name_set.difference(model_structure_name_set)"
   ]
  },
  {
   "cell_type": "code",
   "execution_count": null,
   "metadata": {},
   "outputs": [],
   "source": [
    "model_structure_name_set.difference(wf_structures_ranked_name_set)"
   ]
  },
  {
   "cell_type": "code",
   "execution_count": null,
   "metadata": {},
   "outputs": [],
   "source": [
    "wf_structures_ranked.loc[wf_structures_ranked.Name == 'STR-73']"
   ]
  },
  {
   "cell_type": "code",
   "execution_count": null,
   "metadata": {},
   "outputs": [],
   "source": []
  },
  {
   "attachments": {},
   "cell_type": "markdown",
   "metadata": {},
   "source": [
    " ### Compare CPPJ Rankings and Modeled Structures - 01-17-2023"
   ]
  },
  {
   "cell_type": "code",
   "execution_count": null,
   "metadata": {},
   "outputs": [],
   "source": [
    "ward1_hdf_loc = Path(r'C:\\Users\\christianl\\repos\\lwi-apps\\simulation\\WF_WestForkCalcasieu.g05.hdf')\n",
    "houstion_hdf_loc = Path(r'C:\\Users\\christianl\\repos\\lwi-apps\\simulation\\WF_WestForkCalcasieu.g06.hdf')\n",
    "sulfur_hdf_loc = Path(r'C:\\Users\\christianl\\repos\\lwi-apps\\simulation\\WF_WestForkCalcasieu.g07.hdf')"
   ]
  },
  {
   "cell_type": "code",
   "execution_count": null,
   "metadata": {},
   "outputs": [],
   "source": [
    "ward1_structure_names=ras.get_hdf_datasets(ward1_hdf_loc).Connection\n",
    "houstion_structure_names=ras.get_hdf_datasets(houstion_hdf_loc).Connection\n",
    "sulfur_structure_names=ras.get_hdf_datasets(sulfur_hdf_loc).Connection"
   ]
  },
  {
   "cell_type": "code",
   "execution_count": null,
   "metadata": {},
   "outputs": [],
   "source": [
    "# import CPPJ Rankings\n",
    "wf_structures_ranked_loc = r'C:\\Users\\christianl\\repos\\lwi-apps\\data\\interim\\WF_CPPJStructures_Ranked.xlsx'\n",
    "wf_structures_ranked = pd.read_excel(wf_structures_ranked_loc)"
   ]
  },
  {
   "cell_type": "code",
   "execution_count": null,
   "metadata": {},
   "outputs": [],
   "source": [
    "wf_structures_ranked.Model.unique()"
   ]
  },
  {
   "attachments": {},
   "cell_type": "markdown",
   "metadata": {},
   "source": [
    "Discrepancies in Log and RAS have been identified"
   ]
  },
  {
   "attachments": {},
   "cell_type": "markdown",
   "metadata": {},
   "source": [
    "To lazy to write out SQL Query"
   ]
  },
  {
   "cell_type": "code",
   "execution_count": null,
   "metadata": {},
   "outputs": [],
   "source": [
    "bridge_codes = [str(x) for x in range(130,178)]\n",
    "guardrail_codes = [str(x) for x in range(180,199)]\n",
    "roadway_codes = [str(x) for x in range(47,95)]\n",
    "cl_codes = [str(x) for x in range(47,54)]\n",
    "drainagesruct_codes = [str(x) for x in range(250,297)]"
   ]
  },
  {
   "cell_type": "code",
   "execution_count": null,
   "metadata": {},
   "outputs": [],
   "source": [
    "sql = ''\n",
    "nums = [46, 47, 48, 49, 50, 51, 52, 53, 54, 55, 56, 57, 58, 59, 60, 61, 62, 63, 64, 65, 66, 67, 68, 69, 70, 71, 130, 140, 141, 460, 461, 462, 463, 464, 465, 466, 467, 468, 469, 470, 471, 472, 473, 474, 475, 476, 477, 478, 479, 480, 481, 482, 483, 484, 485, 486, 487, 488, 489, 490, 491, 780, 781]\n",
    "for x in nums:\n",
    "    x = str(x)\n",
    "    sql += (f'DESCRIPTIO LIKE \\'%{x}%\\' Or ')"
   ]
  },
  {
   "attachments": {},
   "cell_type": "markdown",
   "metadata": {},
   "source": [
    " ### Rename Structures"
   ]
  },
  {
   "cell_type": "code",
   "execution_count": 32,
   "metadata": {},
   "outputs": [],
   "source": [
    "from pathlib import Path"
   ]
  },
  {
   "cell_type": "code",
   "execution_count": 33,
   "metadata": {},
   "outputs": [],
   "source": [
    "geom_loc = r'C:\\Users\\christianl\\repos\\lwi-apps\\simulation\\WF_WestForkCalcasieu.g09'\n",
    "geom_loc = Path(geom_loc)"
   ]
  },
  {
   "cell_type": "code",
   "execution_count": 34,
   "metadata": {},
   "outputs": [],
   "source": [
    "geom=Path.read_text(geom_loc)"
   ]
  },
  {
   "cell_type": "code",
   "execution_count": 35,
   "metadata": {},
   "outputs": [],
   "source": [
    "geom=list(geom.split('\\n'))"
   ]
  },
  {
   "cell_type": "code",
   "execution_count": 36,
   "metadata": {},
   "outputs": [
    {
     "data": {
      "text/plain": [
       "['Geom Title=CTRL01_BuildC',\n",
       " 'Program Version=6.20',\n",
       " 'Viewing Rectangle= 2534219.28119776 , 2720177.56492559 , 874555.180184681 , 636670.780184681 ',\n",
       " '',\n",
       " 'BEGIN GEOM DESCRIPTION:']"
      ]
     },
     "execution_count": 36,
     "metadata": {},
     "output_type": "execute_result"
    }
   ],
   "source": [
    "geom[:5]"
   ]
  },
  {
   "cell_type": "code",
   "execution_count": 37,
   "metadata": {},
   "outputs": [
    {
     "name": "stdout",
     "output_type": "stream",
     "text": [
      "WFCalcRi_0026         \n",
      "WFCalcRi_0027         \n",
      "WFCalcRi_0028         \n",
      "WFCalcRi_0029         \n",
      "WFCalcRi_0030         \n",
      "WFCalcRi_0031         \n",
      "WFCalcRi_0032         \n",
      "WFCalcRi_0033         \n",
      "WFCalcRi_0034         \n",
      "WFCalcRi_0035         \n",
      "WFCalcRi_0036         \n",
      "WFCalcRi_0037         \n",
      "WFCalcRi_0038         \n",
      "WFCalcRi_0039         \n",
      "WFCalcRi_0040         \n",
      "WFCalcRi_0041         \n",
      "WFCalcRi_0042         \n",
      "WFCalcRi_0043         \n",
      "WFCalcRi_0044         \n",
      "WFCalcRi_0046         \n",
      "WFCalcRi_0047         \n",
      "WFCalcRi_0048         \n",
      "WFCalcRi_0049         \n",
      "WFCalcRi_0050         \n",
      "WFCalcRi_0051         \n",
      "WFCalcRi_0052         \n",
      "WFCalcRi_0053         \n",
      "WFCalcRi_0101         \n",
      "WFCalcRi_0102         \n",
      "WFCalcRi_0103         \n",
      "WFCalcRi_0104         \n",
      "WFCalcRi_0105         \n",
      "WFCalcRi_0106         \n",
      "WFCalcRi_0107         \n",
      "WFCalcRi_0108         \n",
      "WFCalcRi_0109         \n",
      "WFCalcRi_0110         \n",
      "WFCalcRi_0111         \n",
      "WFCalcRi_0112         \n",
      "WFCalcRi_0113         \n",
      "WFCalcRi_0114         \n",
      "WFCalcRi_0115         \n",
      "WFCalcRi_0116         \n",
      "WFCalcRi_0117         \n",
      "WFCalcRi_0118         \n",
      "WFCalcRi_0119         \n",
      "WFCalcRi_0120         \n",
      "WFCalcRi_0121         \n",
      "WFCalcRi_0122         \n",
      "WFCalcRi_0123         \n",
      "WFCalcRi_0124         \n",
      "WFCalcRi_0125         \n",
      "WFCalcRi_0126         \n",
      "WFCalcRi_0127         \n",
      "WFCalcRi_0128         \n",
      "WFCalcRi_0129         \n",
      "WFCalcRi_0130         \n",
      "WFCalcRi_0131         \n",
      "WFCalcRi_0132         \n",
      "WFCalcRi_0133         \n",
      "WFCalcRi_0134         \n",
      "WFCalcRi_0135         \n",
      "WFCalcRi_0136         \n",
      "WFCalcRi_0137         \n",
      "WFCalcRi_0138         \n",
      "WFCalcRi_0139         \n",
      "WFCalcRi_0140         \n",
      "WFCalcRi_0141         \n",
      "WFCalcRi_0142         \n",
      "WFCalcRi_0143         \n",
      "WFCalcRi_0144         \n",
      "WFCalcRi_0145         \n",
      "WFCalcRi_0146         \n",
      "WFCalcRi_0147         \n",
      "WFCalcRi_0148         \n",
      "WFCalcRi_0149         \n",
      "WFCalcRi_0150         \n",
      "WFCalcRi_0151         \n",
      "WFCalcRi_0152         \n",
      "WFCalcRi_0201         \n",
      "WFCalcRi_1029         \n",
      "WFCalcRi_2013         \n",
      "WFCalcRi_3001         \n",
      "WFCalcRi_3003         \n",
      "WFCalcRi_3027         \n",
      "WFCalcRi_4060         \n"
     ]
    }
   ],
   "source": [
    "for i in geom:\n",
    "    if i.startswith('Connection='):\n",
    "        i=i.split('=')[-1].split(',')[0]\n",
    "        if not i.startswith('WF'):\n",
    "            i=f'WFCalcRi_{i[3:]}'\n",
    "            print(i)"
   ]
  },
  {
   "cell_type": "code",
   "execution_count": 38,
   "metadata": {},
   "outputs": [
    {
     "name": "stdout",
     "output_type": "stream",
     "text": [
      "Connection=WFCalcRi_nection=WFCalcRi_0023CUL,0,0\n",
      "Connection=WFCalcRi_nection=WFCalcRi_0024CUL,0,0\n",
      "Connection=WFCalcRi_nection=WFCalcRi_0025CUL,0,0\n",
      "Connection=WFCalcRi_nection=2050026         ,0,0\n",
      "Connection=WFCalcRi_nection=2050027         ,0,0\n",
      "Connection=WFCalcRi_nection=2050028         ,0,0\n",
      "Connection=WFCalcRi_nection=2050029         ,0,0\n",
      "Connection=WFCalcRi_nection=2050030         ,0,0\n",
      "Connection=WFCalcRi_nection=2050031         ,0,0\n",
      "Connection=WFCalcRi_nection=2050032         ,0,0\n",
      "Connection=WFCalcRi_nection=2050033         ,0,0\n",
      "Connection=WFCalcRi_nection=2050034         ,0,0\n",
      "Connection=WFCalcRi_nection=2050035         ,0,0\n",
      "Connection=WFCalcRi_nection=2050036         ,0,0\n",
      "Connection=WFCalcRi_nection=2050037         ,0,0\n",
      "Connection=WFCalcRi_nection=2050038         ,0,0\n",
      "Connection=WFCalcRi_nection=2050039         ,0,0\n",
      "Connection=WFCalcRi_nection=2050040         ,0,0\n",
      "Connection=WFCalcRi_nection=2050041         ,0,0\n",
      "Connection=WFCalcRi_nection=2050042         ,0,0\n",
      "Connection=WFCalcRi_nection=2050043         ,0,0\n",
      "Connection=WFCalcRi_nection=2050044         ,0,0\n",
      "Connection=WFCalcRi_nection=2050046         ,0,0\n",
      "Connection=WFCalcRi_nection=2050047         ,0,0\n",
      "Connection=WFCalcRi_nection=2050048         ,0,0\n",
      "Connection=WFCalcRi_nection=2050049         ,0,0\n",
      "Connection=WFCalcRi_nection=2050050         ,0,0\n",
      "Connection=WFCalcRi_nection=2050051         ,0,0\n",
      "Connection=WFCalcRi_nection=2050052         ,0,0\n",
      "Connection=WFCalcRi_nection=2050053         ,0,0\n",
      "Connection=WFCalcRi_nection=2050101         ,0,0\n",
      "Connection=WFCalcRi_nection=2050102         ,0,0\n",
      "Connection=WFCalcRi_nection=2050103         ,0,0\n",
      "Connection=WFCalcRi_nection=2050104         ,0,0\n",
      "Connection=WFCalcRi_nection=2050105         ,0,0\n",
      "Connection=WFCalcRi_nection=2050106         ,0,0\n",
      "Connection=WFCalcRi_nection=2050107         ,0,0\n",
      "Connection=WFCalcRi_nection=2050108         ,0,0\n",
      "Connection=WFCalcRi_nection=2050109         ,0,0\n",
      "Connection=WFCalcRi_nection=2050110         ,0,0\n",
      "Connection=WFCalcRi_nection=2050111         ,0,0\n",
      "Connection=WFCalcRi_nection=2050112         ,0,0\n",
      "Connection=WFCalcRi_nection=2050113         ,0,0\n",
      "Connection=WFCalcRi_nection=2050114         ,0,0\n",
      "Connection=WFCalcRi_nection=2050115         ,0,0\n",
      "Connection=WFCalcRi_nection=2050116         ,0,0\n",
      "Connection=WFCalcRi_nection=2050117         ,0,0\n",
      "Connection=WFCalcRi_nection=2050118         ,0,0\n",
      "Connection=WFCalcRi_nection=2050119         ,0,0\n",
      "Connection=WFCalcRi_nection=2050120         ,0,0\n",
      "Connection=WFCalcRi_nection=2050121         ,0,0\n",
      "Connection=WFCalcRi_nection=2050122         ,0,0\n",
      "Connection=WFCalcRi_nection=2050123         ,0,0\n",
      "Connection=WFCalcRi_nection=2050124         ,0,0\n",
      "Connection=WFCalcRi_nection=2050125         ,0,0\n",
      "Connection=WFCalcRi_nection=2050126         ,0,0\n",
      "Connection=WFCalcRi_nection=2050127         ,0,0\n",
      "Connection=WFCalcRi_nection=2050128         ,0,0\n",
      "Connection=WFCalcRi_nection=2050129         ,0,0\n",
      "Connection=WFCalcRi_nection=2050130         ,0,0\n",
      "Connection=WFCalcRi_nection=2050131         ,0,0\n",
      "Connection=WFCalcRi_nection=2050132         ,0,0\n",
      "Connection=WFCalcRi_nection=2050133         ,0,0\n",
      "Connection=WFCalcRi_nection=2050134         ,0,0\n",
      "Connection=WFCalcRi_nection=2050135         ,0,0\n",
      "Connection=WFCalcRi_nection=2050136         ,0,0\n",
      "Connection=WFCalcRi_nection=2050137         ,0,0\n",
      "Connection=WFCalcRi_nection=2050138         ,0,0\n",
      "Connection=WFCalcRi_nection=2050139         ,0,0\n",
      "Connection=WFCalcRi_nection=2050140         ,0,0\n",
      "Connection=WFCalcRi_nection=2050141         ,0,0\n",
      "Connection=WFCalcRi_nection=2050142         ,0,0\n",
      "Connection=WFCalcRi_nection=2050143         ,0,0\n",
      "Connection=WFCalcRi_nection=2050144         ,0,0\n",
      "Connection=WFCalcRi_nection=2050145         ,0,0\n",
      "Connection=WFCalcRi_nection=2050146         ,0,0\n",
      "Connection=WFCalcRi_nection=2050147         ,0,0\n",
      "Connection=WFCalcRi_nection=2050148         ,0,0\n",
      "Connection=WFCalcRi_nection=2050149         ,0,0\n",
      "Connection=WFCalcRi_nection=2050150         ,0,0\n",
      "Connection=WFCalcRi_nection=2050151         ,0,0\n",
      "Connection=WFCalcRi_nection=2050152         ,0,0\n",
      "Connection=WFCalcRi_nection=2050201         ,0,0\n",
      "Connection=WFCalcRi_nection=2051029         ,0,0\n",
      "Connection=WFCalcRi_nection=2052013         ,0,0\n",
      "Connection=WFCalcRi_nection=2053001         ,0,0\n",
      "Connection=WFCalcRi_nection=2053003         ,0,0\n",
      "Connection=WFCalcRi_nection=2053027         ,0,0\n",
      "Connection=WFCalcRi_nection=2054060         ,0,0\n",
      "Connection=WFCalcRi_nection=WFCalcRi_0001CUL,0,0\n",
      "Connection=WFCalcRi_nection=WFCalcRi_0002BRI,0,0\n",
      "Connection=WFCalcRi_nection=WFCalcRi_0003CUL,0,0\n",
      "Connection=WFCalcRi_nection=WFCalcRi_0004BRI,0,0\n",
      "Connection=WFCalcRi_nection=WFCalcRi_0005BRI,0,0\n",
      "Connection=WFCalcRi_nection=WFCalcRi_0006CUL,0,0\n",
      "Connection=WFCalcRi_nection=WFCalcRi_0007CUL,0,0\n",
      "Connection=WFCalcRi_nection=WFCalcRi_0008BRI,0,0\n",
      "Connection=WFCalcRi_nection=WFCalcRi_0009BRI,0,0\n",
      "Connection=WFCalcRi_nection=WFCalcRi_0010CUL,0,0\n",
      "Connection=WFCalcRi_nection=WFCalcRi_0011BRI,0,0\n",
      "Connection=WFCalcRi_nection=WFCalcRi_0012CUL,0,0\n",
      "Connection=WFCalcRi_nection=WFCalcRi_0013CUL,0,0\n",
      "Connection=WFCalcRi_nection=WFCalcRi_0014CUL,0,0\n",
      "Connection=WFCalcRi_nection=WFCalcRi_0015CUL,0,0\n",
      "Connection=WFCalcRi_nection=WFCalcRi_0016CUL,0,0\n",
      "Connection=WFCalcRi_nection=WFCalcRi_0017CUL,0,0\n",
      "Connection=WFCalcRi_nection=WFCalcRi_0018CUL,0,0\n",
      "Connection=WFCalcRi_nection=WFCalcRi_0019CUL,0,0\n",
      "Connection=WFCalcRi_nection=WFCalcRi_0020CUL,0,0\n",
      "Connection=WFCalcRi_nection=WFCalcRi_0021CUL,0,0\n",
      "Connection=WFCalcRi_nection=WFCalcRi_0022BRI,0,0\n"
     ]
    }
   ],
   "source": [
    "for idx, row in enumerate(geom):\n",
    "    if row.startswith('Connection='):\n",
    "        row.split('=')[-1].split(',')[0]\n",
    "        if not row.startswith('WF'):\n",
    "            geom[idx]=f'Connection=WFCalcRi_{row[3:]}'\n",
    "            print(geom[idx])"
   ]
  },
  {
   "cell_type": "code",
   "execution_count": null,
   "metadata": {},
   "outputs": [],
   "source": []
  }
 ],
 "metadata": {
  "kernelspec": {
   "display_name": "lwi-apps",
   "language": "python",
   "name": "python3"
  },
  "language_info": {
   "codemirror_mode": {
    "name": "ipython",
    "version": 3
   },
   "file_extension": ".py",
   "mimetype": "text/x-python",
   "name": "python",
   "nbconvert_exporter": "python",
   "pygments_lexer": "ipython3",
   "version": "3.10.8"
  },
  "orig_nbformat": 4,
  "vscode": {
   "interpreter": {
    "hash": "4f4606d988262abfc88719a279f7be0e35d912993e56029b0ee5397d897cb266"
   }
  }
 },
 "nbformat": 4,
 "nbformat_minor": 2
}
