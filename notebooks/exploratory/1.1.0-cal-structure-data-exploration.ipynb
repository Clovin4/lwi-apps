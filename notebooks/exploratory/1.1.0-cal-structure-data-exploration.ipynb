{
 "cells": [
  {
   "cell_type": "code",
   "execution_count": 2,
   "metadata": {},
   "outputs": [],
   "source": [
    "import pandas as pd\n",
    "import numpy as np\n",
    "import geopandas as gpd\n",
    "import rasterio\n",
    "\n",
    "import os, h5py\n",
    "from pathlib import Path\n",
    "import openpyxl\n",
    "\n",
    "import holoviews as hv\n"
   ]
  },
  {
   "cell_type": "code",
   "execution_count": 3,
   "metadata": {},
   "outputs": [],
   "source": [
    "%run -n C:\\Users\\christianl\\repos\\lwi-apps\\src\\utility_code.py"
   ]
  },
  {
   "cell_type": "code",
   "execution_count": 4,
   "metadata": {},
   "outputs": [],
   "source": [
    "model=ras.get_model_paths('../../simulation/')"
   ]
  },
  {
   "cell_type": "code",
   "execution_count": 5,
   "metadata": {},
   "outputs": [
    {
     "data": {
      "text/plain": [
       "Index(['laura_2020', '002yr', '100yr', 'ctrl01_laura_2020_a',\n",
       "       'ctrl01_30s_laura_2020_a', 'ctrl01_60s_laura_2020_a',\n",
       "       'ctrl01_120s_laura_2020_a', 'ctrl01_laura_2020_b',\n",
       "       'ctrl01_10sadt_laura_2020_a', 'ctrl01_adt_laura_2020_a',\n",
       "       'ctrl01_adt30s_laura_2020_a', 'ctrl01_adt60s_laura_2020_a',\n",
       "       'ctrl01_adt120s_laura_2020_a', 'ctrl01_100yr_a', 'ctrl01_60s_100yr_a',\n",
       "       'ctrl01_120s_100yr_a', 'ctrl01_adt_100yr_a', 'ctrl01_adt60s_100yr_a',\n",
       "       'ctrl01_adt120s_100yr_a', 'ctrl01_run12_100yr_a',\n",
       "       'ctrl01_run24_100yr_a', 'ctrl01_run36_100yr_a',\n",
       "       'ctrl01_run12_laura_2020_a', 'ctrl01_run24_laura_2020_a',\n",
       "       'ctrl01_100yr_c', 'ctrl01_laura2020_c'],\n",
       "      dtype='object')"
      ]
     },
     "execution_count": 5,
     "metadata": {},
     "output_type": "execute_result"
    }
   ],
   "source": [
    "model.index"
   ]
  },
  {
   "cell_type": "code",
   "execution_count": null,
   "metadata": {},
   "outputs": [],
   "source": [
    "# struct_attrs.columns=struct_attrs.columns.str.replace(' ','_').str.lower()"
   ]
  },
  {
   "cell_type": "code",
   "execution_count": 6,
   "metadata": {},
   "outputs": [
    {
     "data": {
      "text/plain": [
       "WindowsPath('../../simulation/WF_WestForkCalcasieu.g09.hdf')"
      ]
     },
     "execution_count": 6,
     "metadata": {},
     "output_type": "execute_result"
    }
   ],
   "source": [
    "ctrl01_c=model.geom_file_hdf.ctrl01_laura2020_c\n",
    "ctrl01_c"
   ]
  },
  {
   "cell_type": "code",
   "execution_count": 7,
   "metadata": {},
   "outputs": [
    {
     "data": {
      "text/html": [
       "<div>\n",
       "<style scoped>\n",
       "    .dataframe tbody tr th:only-of-type {\n",
       "        vertical-align: middle;\n",
       "    }\n",
       "\n",
       "    .dataframe tbody tr th {\n",
       "        vertical-align: top;\n",
       "    }\n",
       "\n",
       "    .dataframe thead th {\n",
       "        text-align: right;\n",
       "    }\n",
       "</style>\n",
       "<table border=\"1\" class=\"dataframe\">\n",
       "  <thead>\n",
       "    <tr style=\"text-align: right;\">\n",
       "      <th></th>\n",
       "      <th>type</th>\n",
       "      <th>mode</th>\n",
       "      <th>river</th>\n",
       "      <th>reach</th>\n",
       "      <th>rs</th>\n",
       "      <th>connection</th>\n",
       "      <th>groupname</th>\n",
       "      <th>us_type</th>\n",
       "      <th>us_river</th>\n",
       "      <th>us_reach</th>\n",
       "      <th>...</th>\n",
       "      <th>us_ineff_right_elev</th>\n",
       "      <th>ds_ineff_left_sta</th>\n",
       "      <th>ds_ineff_left_elev</th>\n",
       "      <th>ds_ineff_right_sta</th>\n",
       "      <th>ds_ineff_right_elev</th>\n",
       "      <th>use_override_hw_connectivity</th>\n",
       "      <th>use_override_tw_connectivity</th>\n",
       "      <th>use_override_htabibcurves</th>\n",
       "      <th>snn_id</th>\n",
       "      <th>default_centerline</th>\n",
       "    </tr>\n",
       "  </thead>\n",
       "  <tbody>\n",
       "    <tr>\n",
       "      <th>0</th>\n",
       "      <td>Connection</td>\n",
       "      <td>Weir/Gate/Culverts</td>\n",
       "      <td></td>\n",
       "      <td></td>\n",
       "      <td></td>\n",
       "      <td>2050001</td>\n",
       "      <td>WFCalcRi, 2050001</td>\n",
       "      <td>2D</td>\n",
       "      <td></td>\n",
       "      <td></td>\n",
       "      <td>...</td>\n",
       "      <td>NaN</td>\n",
       "      <td>NaN</td>\n",
       "      <td>NaN</td>\n",
       "      <td>NaN</td>\n",
       "      <td>NaN</td>\n",
       "      <td>0</td>\n",
       "      <td>0</td>\n",
       "      <td>0</td>\n",
       "      <td>2</td>\n",
       "      <td>0</td>\n",
       "    </tr>\n",
       "    <tr>\n",
       "      <th>1</th>\n",
       "      <td>Connection</td>\n",
       "      <td>Bridge Opening</td>\n",
       "      <td></td>\n",
       "      <td></td>\n",
       "      <td></td>\n",
       "      <td>2050002</td>\n",
       "      <td>WFCalcRi, 2050002</td>\n",
       "      <td>2D</td>\n",
       "      <td></td>\n",
       "      <td></td>\n",
       "      <td>...</td>\n",
       "      <td>NaN</td>\n",
       "      <td>NaN</td>\n",
       "      <td>NaN</td>\n",
       "      <td>NaN</td>\n",
       "      <td>NaN</td>\n",
       "      <td>0</td>\n",
       "      <td>0</td>\n",
       "      <td>0</td>\n",
       "      <td>3</td>\n",
       "      <td>0</td>\n",
       "    </tr>\n",
       "    <tr>\n",
       "      <th>2</th>\n",
       "      <td>Connection</td>\n",
       "      <td>Weir/Gate/Culverts</td>\n",
       "      <td></td>\n",
       "      <td></td>\n",
       "      <td></td>\n",
       "      <td>2050003</td>\n",
       "      <td>WFCalcRi, 2050003</td>\n",
       "      <td>2D</td>\n",
       "      <td></td>\n",
       "      <td></td>\n",
       "      <td>...</td>\n",
       "      <td>NaN</td>\n",
       "      <td>NaN</td>\n",
       "      <td>NaN</td>\n",
       "      <td>NaN</td>\n",
       "      <td>NaN</td>\n",
       "      <td>0</td>\n",
       "      <td>0</td>\n",
       "      <td>0</td>\n",
       "      <td>4</td>\n",
       "      <td>0</td>\n",
       "    </tr>\n",
       "    <tr>\n",
       "      <th>3</th>\n",
       "      <td>Connection</td>\n",
       "      <td>Bridge Opening</td>\n",
       "      <td></td>\n",
       "      <td></td>\n",
       "      <td></td>\n",
       "      <td>2050004</td>\n",
       "      <td>WFCalcRi, 2050004</td>\n",
       "      <td>2D</td>\n",
       "      <td></td>\n",
       "      <td></td>\n",
       "      <td>...</td>\n",
       "      <td>NaN</td>\n",
       "      <td>NaN</td>\n",
       "      <td>NaN</td>\n",
       "      <td>NaN</td>\n",
       "      <td>NaN</td>\n",
       "      <td>0</td>\n",
       "      <td>0</td>\n",
       "      <td>0</td>\n",
       "      <td>5</td>\n",
       "      <td>0</td>\n",
       "    </tr>\n",
       "    <tr>\n",
       "      <th>4</th>\n",
       "      <td>Connection</td>\n",
       "      <td>Bridge Opening</td>\n",
       "      <td></td>\n",
       "      <td></td>\n",
       "      <td></td>\n",
       "      <td>2050005</td>\n",
       "      <td>WFCalcRi, 2050005</td>\n",
       "      <td>2D</td>\n",
       "      <td></td>\n",
       "      <td></td>\n",
       "      <td>...</td>\n",
       "      <td>NaN</td>\n",
       "      <td>NaN</td>\n",
       "      <td>NaN</td>\n",
       "      <td>NaN</td>\n",
       "      <td>NaN</td>\n",
       "      <td>0</td>\n",
       "      <td>0</td>\n",
       "      <td>0</td>\n",
       "      <td>6</td>\n",
       "      <td>0</td>\n",
       "    </tr>\n",
       "    <tr>\n",
       "      <th>...</th>\n",
       "      <td>...</td>\n",
       "      <td>...</td>\n",
       "      <td>...</td>\n",
       "      <td>...</td>\n",
       "      <td>...</td>\n",
       "      <td>...</td>\n",
       "      <td>...</td>\n",
       "      <td>...</td>\n",
       "      <td>...</td>\n",
       "      <td>...</td>\n",
       "      <td>...</td>\n",
       "      <td>...</td>\n",
       "      <td>...</td>\n",
       "      <td>...</td>\n",
       "      <td>...</td>\n",
       "      <td>...</td>\n",
       "      <td>...</td>\n",
       "      <td>...</td>\n",
       "      <td>...</td>\n",
       "      <td>...</td>\n",
       "      <td>...</td>\n",
       "    </tr>\n",
       "    <tr>\n",
       "      <th>106</th>\n",
       "      <td>Connection</td>\n",
       "      <td>Weir/Gate/Culverts</td>\n",
       "      <td></td>\n",
       "      <td></td>\n",
       "      <td></td>\n",
       "      <td>2052013</td>\n",
       "      <td>WFCalcRi, 2052013</td>\n",
       "      <td>2D</td>\n",
       "      <td></td>\n",
       "      <td></td>\n",
       "      <td>...</td>\n",
       "      <td>NaN</td>\n",
       "      <td>NaN</td>\n",
       "      <td>NaN</td>\n",
       "      <td>NaN</td>\n",
       "      <td>NaN</td>\n",
       "      <td>0</td>\n",
       "      <td>0</td>\n",
       "      <td>0</td>\n",
       "      <td>108</td>\n",
       "      <td>0</td>\n",
       "    </tr>\n",
       "    <tr>\n",
       "      <th>107</th>\n",
       "      <td>Connection</td>\n",
       "      <td>Weir/Gate/Culverts</td>\n",
       "      <td></td>\n",
       "      <td></td>\n",
       "      <td></td>\n",
       "      <td>2053001</td>\n",
       "      <td>WFCalcRi, 2053001</td>\n",
       "      <td>2D</td>\n",
       "      <td></td>\n",
       "      <td></td>\n",
       "      <td>...</td>\n",
       "      <td>NaN</td>\n",
       "      <td>NaN</td>\n",
       "      <td>NaN</td>\n",
       "      <td>NaN</td>\n",
       "      <td>NaN</td>\n",
       "      <td>0</td>\n",
       "      <td>0</td>\n",
       "      <td>0</td>\n",
       "      <td>109</td>\n",
       "      <td>0</td>\n",
       "    </tr>\n",
       "    <tr>\n",
       "      <th>108</th>\n",
       "      <td>Connection</td>\n",
       "      <td>Bridge Opening</td>\n",
       "      <td></td>\n",
       "      <td></td>\n",
       "      <td></td>\n",
       "      <td>2053003</td>\n",
       "      <td>WFCalcRi, 2053003</td>\n",
       "      <td>2D</td>\n",
       "      <td></td>\n",
       "      <td></td>\n",
       "      <td>...</td>\n",
       "      <td>NaN</td>\n",
       "      <td>NaN</td>\n",
       "      <td>NaN</td>\n",
       "      <td>NaN</td>\n",
       "      <td>NaN</td>\n",
       "      <td>0</td>\n",
       "      <td>0</td>\n",
       "      <td>0</td>\n",
       "      <td>110</td>\n",
       "      <td>0</td>\n",
       "    </tr>\n",
       "    <tr>\n",
       "      <th>109</th>\n",
       "      <td>Connection</td>\n",
       "      <td>Bridge Opening</td>\n",
       "      <td></td>\n",
       "      <td></td>\n",
       "      <td></td>\n",
       "      <td>2053027</td>\n",
       "      <td>WFCalcRi, 2053027</td>\n",
       "      <td>2D</td>\n",
       "      <td></td>\n",
       "      <td></td>\n",
       "      <td>...</td>\n",
       "      <td>NaN</td>\n",
       "      <td>NaN</td>\n",
       "      <td>NaN</td>\n",
       "      <td>NaN</td>\n",
       "      <td>NaN</td>\n",
       "      <td>0</td>\n",
       "      <td>0</td>\n",
       "      <td>0</td>\n",
       "      <td>111</td>\n",
       "      <td>0</td>\n",
       "    </tr>\n",
       "    <tr>\n",
       "      <th>110</th>\n",
       "      <td>Connection</td>\n",
       "      <td>Bridge Opening</td>\n",
       "      <td></td>\n",
       "      <td></td>\n",
       "      <td></td>\n",
       "      <td>2054060</td>\n",
       "      <td>WFCalcRi, 2054060</td>\n",
       "      <td>2D</td>\n",
       "      <td></td>\n",
       "      <td></td>\n",
       "      <td>...</td>\n",
       "      <td>NaN</td>\n",
       "      <td>NaN</td>\n",
       "      <td>NaN</td>\n",
       "      <td>NaN</td>\n",
       "      <td>NaN</td>\n",
       "      <td>0</td>\n",
       "      <td>0</td>\n",
       "      <td>0</td>\n",
       "      <td>112</td>\n",
       "      <td>0</td>\n",
       "    </tr>\n",
       "  </tbody>\n",
       "</table>\n",
       "<p>111 rows × 90 columns</p>\n",
       "</div>"
      ],
      "text/plain": [
       "           type                mode river reach rs connection  \\\n",
       "0    Connection  Weir/Gate/Culverts                   2050001   \n",
       "1    Connection      Bridge Opening                   2050002   \n",
       "2    Connection  Weir/Gate/Culverts                   2050003   \n",
       "3    Connection      Bridge Opening                   2050004   \n",
       "4    Connection      Bridge Opening                   2050005   \n",
       "..          ...                 ...   ...   ... ..        ...   \n",
       "106  Connection  Weir/Gate/Culverts                   2052013   \n",
       "107  Connection  Weir/Gate/Culverts                   2053001   \n",
       "108  Connection      Bridge Opening                   2053003   \n",
       "109  Connection      Bridge Opening                   2053027   \n",
       "110  Connection      Bridge Opening                   2054060   \n",
       "\n",
       "             groupname us_type us_river us_reach  ... us_ineff_right_elev  \\\n",
       "0    WFCalcRi, 2050001      2D                    ...                 NaN   \n",
       "1    WFCalcRi, 2050002      2D                    ...                 NaN   \n",
       "2    WFCalcRi, 2050003      2D                    ...                 NaN   \n",
       "3    WFCalcRi, 2050004      2D                    ...                 NaN   \n",
       "4    WFCalcRi, 2050005      2D                    ...                 NaN   \n",
       "..                 ...     ...      ...      ...  ...                 ...   \n",
       "106  WFCalcRi, 2052013      2D                    ...                 NaN   \n",
       "107  WFCalcRi, 2053001      2D                    ...                 NaN   \n",
       "108  WFCalcRi, 2053003      2D                    ...                 NaN   \n",
       "109  WFCalcRi, 2053027      2D                    ...                 NaN   \n",
       "110  WFCalcRi, 2054060      2D                    ...                 NaN   \n",
       "\n",
       "    ds_ineff_left_sta ds_ineff_left_elev ds_ineff_right_sta  \\\n",
       "0                 NaN                NaN                NaN   \n",
       "1                 NaN                NaN                NaN   \n",
       "2                 NaN                NaN                NaN   \n",
       "3                 NaN                NaN                NaN   \n",
       "4                 NaN                NaN                NaN   \n",
       "..                ...                ...                ...   \n",
       "106               NaN                NaN                NaN   \n",
       "107               NaN                NaN                NaN   \n",
       "108               NaN                NaN                NaN   \n",
       "109               NaN                NaN                NaN   \n",
       "110               NaN                NaN                NaN   \n",
       "\n",
       "    ds_ineff_right_elev use_override_hw_connectivity  \\\n",
       "0                   NaN                            0   \n",
       "1                   NaN                            0   \n",
       "2                   NaN                            0   \n",
       "3                   NaN                            0   \n",
       "4                   NaN                            0   \n",
       "..                  ...                          ...   \n",
       "106                 NaN                            0   \n",
       "107                 NaN                            0   \n",
       "108                 NaN                            0   \n",
       "109                 NaN                            0   \n",
       "110                 NaN                            0   \n",
       "\n",
       "    use_override_tw_connectivity use_override_htabibcurves snn_id  \\\n",
       "0                              0                         0      2   \n",
       "1                              0                         0      3   \n",
       "2                              0                         0      4   \n",
       "3                              0                         0      5   \n",
       "4                              0                         0      6   \n",
       "..                           ...                       ...    ...   \n",
       "106                            0                         0    108   \n",
       "107                            0                         0    109   \n",
       "108                            0                         0    110   \n",
       "109                            0                         0    111   \n",
       "110                            0                         0    112   \n",
       "\n",
       "    default_centerline  \n",
       "0                    0  \n",
       "1                    0  \n",
       "2                    0  \n",
       "3                    0  \n",
       "4                    0  \n",
       "..                 ...  \n",
       "106                  0  \n",
       "107                  0  \n",
       "108                  0  \n",
       "109                  0  \n",
       "110                  0  \n",
       "\n",
       "[111 rows x 90 columns]"
      ]
     },
     "execution_count": 7,
     "metadata": {},
     "output_type": "execute_result"
    }
   ],
   "source": [
    "ras.get_structure_attrs(ctrl01_c)"
   ]
  },
  {
   "attachments": {},
   "cell_type": "markdown",
   "metadata": {},
   "source": [
    " ### Compare CPPJ Rankings and Modeled Structures - 01-16-2023"
   ]
  },
  {
   "cell_type": "code",
   "execution_count": null,
   "metadata": {},
   "outputs": [],
   "source": [
    "wf_structures_ranked_loc = r'C:\\Users\\christianl\\repos\\lwi-apps\\data\\interim\\WF_CPPJStructures_Ranked.xlsx'\n",
    "wf_structures_ranked = pd.read_excel(wf_structures_ranked_loc)"
   ]
  },
  {
   "cell_type": "code",
   "execution_count": null,
   "metadata": {},
   "outputs": [],
   "source": [
    "wf_structures_ranked_name_set = set(wf_structures_ranked.Name)"
   ]
  },
  {
   "cell_type": "code",
   "execution_count": null,
   "metadata": {},
   "outputs": [],
   "source": [
    "hdf_loc = Path(r'C:\\Users\\christianl\\repos\\WF_Analysis\\read_hdf\\WF_WestForkCalcasieu.g04.hdf')"
   ]
  },
  {
   "cell_type": "code",
   "execution_count": null,
   "metadata": {},
   "outputs": [],
   "source": [
    "model_structures = ras.get_hdf_datasets(hdf_loc)"
   ]
  },
  {
   "cell_type": "code",
   "execution_count": null,
   "metadata": {},
   "outputs": [],
   "source": [
    "model_structure_name_set = set(model_structures.Connection)"
   ]
  },
  {
   "attachments": {},
   "cell_type": "markdown",
   "metadata": {},
   "source": [
    "compare names"
   ]
  },
  {
   "cell_type": "code",
   "execution_count": null,
   "metadata": {},
   "outputs": [],
   "source": [
    "wf_structures_ranked_name_set.difference(model_structure_name_set)"
   ]
  },
  {
   "cell_type": "code",
   "execution_count": null,
   "metadata": {},
   "outputs": [],
   "source": [
    "model_structure_name_set.difference(wf_structures_ranked_name_set)"
   ]
  },
  {
   "cell_type": "code",
   "execution_count": null,
   "metadata": {},
   "outputs": [],
   "source": [
    "wf_structures_ranked.loc[wf_structures_ranked.Name == 'STR-73']"
   ]
  },
  {
   "cell_type": "code",
   "execution_count": null,
   "metadata": {},
   "outputs": [],
   "source": []
  },
  {
   "attachments": {},
   "cell_type": "markdown",
   "metadata": {},
   "source": [
    " ### Compare CPPJ Rankings and Modeled Structures - 01-17-2023"
   ]
  },
  {
   "cell_type": "code",
   "execution_count": null,
   "metadata": {},
   "outputs": [],
   "source": [
    "ward1_hdf_loc = Path(r'C:\\Users\\christianl\\repos\\lwi-apps\\simulation\\WF_WestForkCalcasieu.g05.hdf')\n",
    "houstion_hdf_loc = Path(r'C:\\Users\\christianl\\repos\\lwi-apps\\simulation\\WF_WestForkCalcasieu.g06.hdf')\n",
    "sulfur_hdf_loc = Path(r'C:\\Users\\christianl\\repos\\lwi-apps\\simulation\\WF_WestForkCalcasieu.g07.hdf')"
   ]
  },
  {
   "cell_type": "code",
   "execution_count": null,
   "metadata": {},
   "outputs": [],
   "source": [
    "ward1_structure_names=ras.get_hdf_datasets(ward1_hdf_loc).Connection\n",
    "houstion_structure_names=ras.get_hdf_datasets(houstion_hdf_loc).Connection\n",
    "sulfur_structure_names=ras.get_hdf_datasets(sulfur_hdf_loc).Connection"
   ]
  },
  {
   "cell_type": "code",
   "execution_count": null,
   "metadata": {},
   "outputs": [],
   "source": [
    "# import CPPJ Rankings\n",
    "wf_structures_ranked_loc = r'C:\\Users\\christianl\\repos\\lwi-apps\\data\\interim\\WF_CPPJStructures_Ranked.xlsx'\n",
    "wf_structures_ranked = pd.read_excel(wf_structures_ranked_loc)"
   ]
  },
  {
   "cell_type": "code",
   "execution_count": null,
   "metadata": {},
   "outputs": [],
   "source": [
    "wf_structures_ranked.Model.unique()"
   ]
  },
  {
   "attachments": {},
   "cell_type": "markdown",
   "metadata": {},
   "source": [
    "Discrepancies in Log and RAS have been identified"
   ]
  },
  {
   "attachments": {},
   "cell_type": "markdown",
   "metadata": {},
   "source": [
    "To lazy to write out SQL Query"
   ]
  },
  {
   "cell_type": "code",
   "execution_count": null,
   "metadata": {},
   "outputs": [],
   "source": [
    "bridge_codes = [str(x) for x in range(130,178)]\n",
    "guardrail_codes = [str(x) for x in range(180,199)]\n",
    "roadway_codes = [str(x) for x in range(47,95)]\n",
    "cl_codes = [str(x) for x in range(47,54)]\n",
    "drainagesruct_codes = [str(x) for x in range(250,297)]"
   ]
  },
  {
   "cell_type": "code",
   "execution_count": null,
   "metadata": {},
   "outputs": [],
   "source": [
    "sql = ''\n",
    "nums = [46, 47, 48, 49, 50, 51, 52, 53, 54, 55, 56, 57, 58, 59, 60, 61, 62, 63, 64, 65, 66, 67, 68, 69, 70, 71, 130, 140, 141, 460, 461, 462, 463, 464, 465, 466, 467, 468, 469, 470, 471, 472, 473, 474, 475, 476, 477, 478, 479, 480, 481, 482, 483, 484, 485, 486, 487, 488, 489, 490, 491, 780, 781]\n",
    "for x in nums:\n",
    "    x = str(x)\n",
    "    sql += (f'DESCRIPTIO LIKE \\'%{x}%\\' Or ')"
   ]
  },
  {
   "cell_type": "code",
   "execution_count": null,
   "metadata": {},
   "outputs": [],
   "source": []
  }
 ],
 "metadata": {
  "kernelspec": {
   "display_name": "lwi-apps",
   "language": "python",
   "name": "python3"
  },
  "language_info": {
   "codemirror_mode": {
    "name": "ipython",
    "version": 3
   },
   "file_extension": ".py",
   "mimetype": "text/x-python",
   "name": "python",
   "nbconvert_exporter": "python",
   "pygments_lexer": "ipython3",
   "version": "3.10.8 | packaged by conda-forge | (main, Nov 22 2022, 08:16:33) [MSC v.1929 64 bit (AMD64)]"
  },
  "orig_nbformat": 4,
  "vscode": {
   "interpreter": {
    "hash": "4f4606d988262abfc88719a279f7be0e35d912993e56029b0ee5397d897cb266"
   }
  }
 },
 "nbformat": 4,
 "nbformat_minor": 2
}
