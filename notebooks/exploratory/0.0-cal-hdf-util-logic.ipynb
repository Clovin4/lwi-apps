{
 "cells": [
  {
   "cell_type": "code",
   "execution_count": null,
   "metadata": {},
   "outputs": [],
   "source": [
    "import pandas as pd\n",
    "import numpy as np\n",
    "import geopandas as gpd\n",
    "import rasterio\n",
    "\n",
    "import os, h5py, sys\n",
    "from pathlib import Path\n",
    "import openpyxl\n",
    "\n",
    "import holoviews as hv"
   ]
  },
  {
   "cell_type": "code",
   "execution_count": null,
   "metadata": {},
   "outputs": [],
   "source": [
    "sys.path.append('../../src/')\n",
    "from utility_code import RAS_Utility\n",
    "ras = RAS_Utility()"
   ]
  },
  {
   "cell_type": "code",
   "execution_count": null,
   "metadata": {},
   "outputs": [],
   "source": [
    "get_model_info('../../simulation/')"
   ]
  },
  {
   "attachments": {},
   "cell_type": "markdown",
   "metadata": {},
   "source": [
    " ### get_manning_data"
   ]
  },
  {
   "cell_type": "code",
   "execution_count": null,
   "metadata": {},
   "outputs": [],
   "source": [
    "# set location of hdf data\n",
    "paln_hdf_loc = r'../../simulation/WF_WestForkCalcasieu.p14.hdf'\n",
    "geo_hdf_loc = r'../../simulation/WF_WestForkCalcasieu.g03.hdf'\n",
    "flow_hdf_loc = r'../../simulation/WF_WestForkCalcasieu.u10.hdf'"
   ]
  },
  {
   "cell_type": "code",
   "execution_count": null,
   "metadata": {},
   "outputs": [],
   "source": [
    "ras.get_manning_data(geo_hdf_loc).head()"
   ]
  },
  {
   "attachments": {},
   "cell_type": "markdown",
   "metadata": {},
   "source": [
    " ### get_model_info\n",
    " \n",
    " This function needs to take the typical RAS folder structure and return the relevant plan associations for each hec ras plan"
   ]
  },
  {
   "cell_type": "code",
   "execution_count": null,
   "metadata": {},
   "outputs": [],
   "source": [
    "# %cd ../../simulation"
   ]
  },
  {
   "cell_type": "code",
   "execution_count": null,
   "metadata": {},
   "outputs": [],
   "source": [
    "# %pwd"
   ]
  },
  {
   "cell_type": "code",
   "execution_count": null,
   "metadata": {},
   "outputs": [],
   "source": [
    "# path = %pwd\n",
    "# path=Path(path)"
   ]
  },
  {
   "cell_type": "code",
   "execution_count": null,
   "metadata": {},
   "outputs": [],
   "source": [
    "model_path = '../../simulation/'\n",
    "model_path=Path(model_path)"
   ]
  },
  {
   "cell_type": "code",
   "execution_count": null,
   "metadata": {},
   "outputs": [],
   "source": [
    "for child in Path(model_path).glob('*.prj'):\n",
    "    if child.is_file():\n",
    "        prj_file=child\n",
    "\n",
    "prj_file"
   ]
  },
  {
   "cell_type": "code",
   "execution_count": null,
   "metadata": {},
   "outputs": [],
   "source": [
    "prj_file_list=(Path.read_text(prj_file).split(\"\\n\"))\n",
    "plan_list = [f'.{x.split(\"=\")[-1]}' for x in prj_file_list if x.startswith(\"Plan File=\")]\n",
    "plan_list[:5]"
   ]
  },
  {
   "cell_type": "code",
   "execution_count": null,
   "metadata": {},
   "outputs": [],
   "source": [
    "# find all files whose extension is in plan_list return the full path\n",
    "plan_file_list = [x for x in Path(model_path).glob('*') if x.suffix in plan_list and x.stem != \"Backup\"]\n",
    "plan_file_list"
   ]
  },
  {
   "cell_type": "code",
   "execution_count": null,
   "metadata": {},
   "outputs": [],
   "source": [
    "# create a dictionary of plan names and file paths the name is found in the plan file\n",
    "plan_dict = {}\n",
    "for plan_file in plan_file_list:\n",
    "    plan_name = Path.read_text(plan_file).split(\"\\n\")[0].split(\"=\")[-1]\n",
    "    plan_dict[plan_name] = plan_file\n",
    "\n",
    "# create a dataframe of plan names and file paths\n",
    "plan_df = pd.DataFrame.from_dict(plan_dict, orient='index', columns=['plan_file'])\n",
    "plan_df"
   ]
  },
  {
   "cell_type": "code",
   "execution_count": null,
   "metadata": {},
   "outputs": [],
   "source": [
    "# Path.read_text(plan_dict['002YR']).split(\"\\n\")"
   ]
  },
  {
   "cell_type": "code",
   "execution_count": null,
   "metadata": {},
   "outputs": [],
   "source": [
    "# add the plans geometry file to plan_df\n",
    "plan_df['geom_file'] = plan_df['plan_file'].apply(lambda x: Path.read_text(x).split(\"\\n\")[4].split(\"=\")[-1])\n",
    "plan_df.head()"
   ]
  },
  {
   "cell_type": "code",
   "execution_count": null,
   "metadata": {},
   "outputs": [],
   "source": [
    "for x in plan_df['geom_file']:\n",
    "    print(x)"
   ]
  },
  {
   "cell_type": "code",
   "execution_count": null,
   "metadata": {},
   "outputs": [],
   "source": [
    "for x in plan_df['geom_file']:\n",
    "    for y in Path(model_path).glob(f'*{x}'):\n",
    "        if y.stem != \"Backup\":\n",
    "            print(y)"
   ]
  },
  {
   "cell_type": "code",
   "execution_count": null,
   "metadata": {},
   "outputs": [],
   "source": [
    "prj_file.stem"
   ]
  },
  {
   "cell_type": "code",
   "execution_count": null,
   "metadata": {},
   "outputs": [],
   "source": [
    "# use glob to find the geometry file and add it to plan_df\n",
    "plan_df['geom_file'] = plan_df['geom_file'].apply(lambda x: [y for y in Path(model_path).glob(f'*{prj_file.stem}.{x}')][0] if y.stem != \"Backup\" else None)"
   ]
  },
  {
   "cell_type": "code",
   "execution_count": null,
   "metadata": {},
   "outputs": [],
   "source": [
    "plan_df"
   ]
  },
  {
   "cell_type": "code",
   "execution_count": null,
   "metadata": {},
   "outputs": [],
   "source": [
    "for child in Path(model_path).glob('*.hdf'):\n",
    "    if child.is_file():\n",
    "        print(child)"
   ]
  },
  {
   "cell_type": "code",
   "execution_count": null,
   "metadata": {},
   "outputs": [],
   "source": [
    "# check if plan file has an hdf file associated with it and add it to the dataframe\n",
    "for x in Path(model_path).glob('*.p*.hdf'):\n",
    "    print(x.stem)"
   ]
  },
  {
   "cell_type": "code",
   "execution_count": null,
   "metadata": {},
   "outputs": [],
   "source": [
    "plan_df"
   ]
  },
  {
   "cell_type": "code",
   "execution_count": null,
   "metadata": {},
   "outputs": [],
   "source": [
    "# add hdf file extension to geom_file if it exists\n",
    "plan_df['geom_file_hdf'] = plan_df['geom_file'].apply(lambda x: Path(f'{x}.hdf') if Path(f'{x}.hdf').exists() else None)\n",
    "plan_df"
   ]
  },
  {
   "cell_type": "code",
   "execution_count": null,
   "metadata": {},
   "outputs": [],
   "source": [
    "# add hdf file extension to plan_file if it exists\n",
    "plan_df['plan_file_hdf'] = plan_df['plan_file'].apply(lambda x: Path(f'{x}.hdf') if Path(f'{x}.hdf').exists() else None)\n",
    "plan_df"
   ]
  },
  {
   "cell_type": "code",
   "execution_count": null,
   "metadata": {},
   "outputs": [],
   "source": [
    "cTRL01_Laura2020_B = plan_df.loc['Laura 2020']"
   ]
  },
  {
   "cell_type": "code",
   "execution_count": null,
   "metadata": {},
   "outputs": [],
   "source": [
    "cTRL01_Laura2020_B['plan_file']"
   ]
  },
  {
   "cell_type": "code",
   "execution_count": null,
   "metadata": {},
   "outputs": [],
   "source": [
    "# define the function to get the file dataframe from the model path\n",
    "def get_model_info(model_path):\n",
    "    # find the projection file\n",
    "    for child in Path(model_path).glob('*.prj'):\n",
    "        if child.is_file():\n",
    "            prj_file=child\n",
    "\n",
    "    # read the project file and get the plan file extension\n",
    "    prj_file_list=(Path.read_text(prj_file).split(\"\\n\"))\n",
    "    plan_list = [f'.{x.split(\"=\")[-1]}' for x in prj_file_list if x.startswith(\"Plan File=\")]\n",
    "\n",
    "    # find all files whose extension is in plan_list return the full path\n",
    "    plan_file_list = [x for x in Path(model_path).glob('*') if x.suffix in plan_list]\n",
    "\n",
    "    # create a dictionary of plan names and file paths the name is found in the plan file\n",
    "    plan_dict = {}\n",
    "    for plan_file in plan_file_list:\n",
    "        plan_name = Path.read_text(plan_file).split(\"\\n\")[0].split(\"=\")[-1]\n",
    "        plan_dict[plan_name] = plan_file\n",
    "\n",
    "    # create a dataframe of plan names and file paths\n",
    "    plan_df = pd.DataFrame.from_dict(plan_dict, orient='index', columns=['plan_file'])\n",
    "\n",
    "    # add the plans geometry file to plan_df\n",
    "    plan_df['geom_file'] = plan_df['plan_file'].apply(lambda x: Path.read_text(x).split(\"\\n\")[4].split(\"=\")[-1])\n",
    "\n",
    "    # use glob to find the geometry file\n",
    "    plan_df['geom_file'] = plan_df['geom_file'].apply(lambda x: [y for y in Path(model_path).glob(f'*{x}')][0])\n",
    "\n",
    "    # add hdf file extension to geom_file if it exists\n",
    "    plan_df['geom_file_hdf'] = plan_df['geom_file'].apply(lambda x: Path(f'{x}.hdf') if Path(f'{x}.hdf').exists() else None)\n",
    "\n",
    "    # add hdf file extension to plan_file if it exists\n",
    "    plan_df['plan_file_hdf'] = plan_df['plan_file'].apply(lambda x: Path(f'{x}.hdf') if Path(f'{x}.hdf').exists() else None)\n",
    "\n",
    "    return plan_df"
   ]
  },
  {
   "cell_type": "code",
   "execution_count": null,
   "metadata": {},
   "outputs": [],
   "source": [
    "get_model_info('../../simulation/')"
   ]
  },
  {
   "cell_type": "code",
   "execution_count": null,
   "metadata": {},
   "outputs": [],
   "source": []
  }
 ],
 "metadata": {
  "kernelspec": {
   "display_name": "lwi-apps",
   "language": "python",
   "name": "python3"
  },
  "language_info": {
   "codemirror_mode": {
    "name": "ipython",
    "version": 3
   },
   "file_extension": ".py",
   "mimetype": "text/x-python",
   "name": "python",
   "nbconvert_exporter": "python",
   "pygments_lexer": "ipython3",
   "version": "3.10.8"
  },
  "orig_nbformat": 4,
  "vscode": {
   "interpreter": {
    "hash": "4f4606d988262abfc88719a279f7be0e35d912993e56029b0ee5397d897cb266"
   }
  }
 },
 "nbformat": 4,
 "nbformat_minor": 2
}
