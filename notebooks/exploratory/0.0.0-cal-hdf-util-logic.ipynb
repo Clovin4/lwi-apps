{
 "cells": [
  {
   "cell_type": "code",
   "execution_count": 8,
   "metadata": {},
   "outputs": [],
   "source": [
    "import pandas as pd\n",
    "import numpy as np\n",
    "import geopandas as gpd\n",
    "import rasterio\n",
    "\n",
    "import os, h5py, sys\n",
    "from pathlib import Path\n",
    "import openpyxl\n",
    "\n",
    "import holoviews as hv"
   ]
  },
  {
   "cell_type": "code",
   "execution_count": 9,
   "metadata": {},
   "outputs": [],
   "source": [
    "%run -n C:\\Users\\christianl\\repos\\lwi-apps\\src\\utility_code.py"
   ]
  },
  {
   "cell_type": "code",
   "execution_count": 11,
   "metadata": {},
   "outputs": [],
   "source": [
    "model=ras.get_model_paths('../../simulation')"
   ]
  },
  {
   "attachments": {},
   "cell_type": "markdown",
   "metadata": {},
   "source": [
    " ### get_manning_data"
   ]
  },
  {
   "cell_type": "code",
   "execution_count": null,
   "metadata": {},
   "outputs": [],
   "source": [
    "# set location of hdf data\n",
    "paln_hdf_loc = r'../../simulation/WF_WestForkCalcasieu.p14.hdf'\n",
    "geo_hdf_loc = r'../../simulation/WF_WestForkCalcasieu.g03.hdf'\n",
    "flow_hdf_loc = r'../../simulation/WF_WestForkCalcasieu.u10.hdf'"
   ]
  },
  {
   "cell_type": "code",
   "execution_count": null,
   "metadata": {},
   "outputs": [],
   "source": [
    "ras.get_manning_data(geo_hdf_loc).head()"
   ]
  },
  {
   "attachments": {},
   "cell_type": "markdown",
   "metadata": {},
   "source": [
    " ### get_model_paths\n",
    " \n",
    " This function needs to take the typical RAS folder structure and return the relevant plan associations for each hec ras plan"
   ]
  },
  {
   "cell_type": "code",
   "execution_count": null,
   "metadata": {},
   "outputs": [],
   "source": [
    "# %cd ../../simulation"
   ]
  },
  {
   "cell_type": "code",
   "execution_count": null,
   "metadata": {},
   "outputs": [],
   "source": [
    "# %pwd"
   ]
  },
  {
   "cell_type": "code",
   "execution_count": null,
   "metadata": {},
   "outputs": [],
   "source": [
    "# path = %pwd\n",
    "# path=Path(path)"
   ]
  },
  {
   "cell_type": "code",
   "execution_count": null,
   "metadata": {},
   "outputs": [],
   "source": [
    "model_path = '../../simulation/'\n",
    "model_path=Path(model_path)"
   ]
  },
  {
   "cell_type": "code",
   "execution_count": null,
   "metadata": {},
   "outputs": [],
   "source": [
    "for child in Path(model_path).glob('*.prj'):\n",
    "    if child.is_file():\n",
    "        prj_file=child\n",
    "\n",
    "prj_file"
   ]
  },
  {
   "cell_type": "code",
   "execution_count": null,
   "metadata": {},
   "outputs": [],
   "source": [
    "prj_file_list=(Path.read_text(prj_file).split(\"\\n\"))\n",
    "plan_list = [f'.{x.split(\"=\")[-1]}' for x in prj_file_list if x.startswith(\"Plan File=\")]\n",
    "plan_list[:5]"
   ]
  },
  {
   "cell_type": "code",
   "execution_count": null,
   "metadata": {},
   "outputs": [],
   "source": [
    "# find all files whose extension is in plan_list return the full path\n",
    "plan_file_list = [x for x in Path(model_path).glob('*') if x.suffix in plan_list and x.stem != \"Backup\"]\n",
    "plan_file_list"
   ]
  },
  {
   "cell_type": "code",
   "execution_count": null,
   "metadata": {},
   "outputs": [],
   "source": [
    "# create a dictionary of plan names and file paths the name is found in the plan file\n",
    "plan_dict = {}\n",
    "for plan_file in plan_file_list:\n",
    "    plan_name = Path.read_text(plan_file).split(\"\\n\")[0].split(\"=\")[-1]\n",
    "    plan_dict[plan_name] = plan_file\n",
    "\n",
    "# create a dataframe of plan names and file paths\n",
    "plan_df = pd.DataFrame.from_dict(plan_dict, orient='index', columns=['plan_file'])\n",
    "plan_df"
   ]
  },
  {
   "cell_type": "code",
   "execution_count": null,
   "metadata": {},
   "outputs": [],
   "source": [
    "# Path.read_text(plan_dict['002YR']).split(\"\\n\")"
   ]
  },
  {
   "cell_type": "code",
   "execution_count": null,
   "metadata": {},
   "outputs": [],
   "source": [
    "# add the plans geometry file to plan_df\n",
    "plan_df['geom_file'] = plan_df['plan_file'].apply(lambda x: Path.read_text(x).split(\"\\n\")[4].split(\"=\")[-1])\n",
    "plan_df.head()"
   ]
  },
  {
   "cell_type": "code",
   "execution_count": null,
   "metadata": {},
   "outputs": [],
   "source": [
    "for x in plan_df['geom_file']:\n",
    "    print(x)"
   ]
  },
  {
   "cell_type": "code",
   "execution_count": null,
   "metadata": {},
   "outputs": [],
   "source": [
    "for x in plan_df['geom_file']:\n",
    "    for y in Path(model_path).glob(f'*{x}'):\n",
    "        if y.stem != \"Backup\":\n",
    "            print(y)"
   ]
  },
  {
   "cell_type": "code",
   "execution_count": null,
   "metadata": {},
   "outputs": [],
   "source": [
    "prj_file.stem"
   ]
  },
  {
   "cell_type": "code",
   "execution_count": null,
   "metadata": {},
   "outputs": [],
   "source": [
    "# use glob to find the geometry file and add it to plan_df\n",
    "plan_df['geom_file'] = plan_df['geom_file'].apply(lambda x: [y for y in Path(model_path).glob(f'*{prj_file.stem}.{x}')][0] if y.stem != \"Backup\" else None)"
   ]
  },
  {
   "cell_type": "code",
   "execution_count": null,
   "metadata": {},
   "outputs": [],
   "source": [
    "plan_df"
   ]
  },
  {
   "cell_type": "code",
   "execution_count": null,
   "metadata": {},
   "outputs": [],
   "source": [
    "for child in Path(model_path).glob('*.hdf'):\n",
    "    if child.is_file():\n",
    "        print(child)"
   ]
  },
  {
   "cell_type": "code",
   "execution_count": null,
   "metadata": {},
   "outputs": [],
   "source": [
    "# check if plan file has an hdf file associated with it and add it to the dataframe\n",
    "for x in Path(model_path).glob('*.p*.hdf'):\n",
    "    print(x.stem)"
   ]
  },
  {
   "cell_type": "code",
   "execution_count": null,
   "metadata": {},
   "outputs": [],
   "source": [
    "plan_df"
   ]
  },
  {
   "cell_type": "code",
   "execution_count": null,
   "metadata": {},
   "outputs": [],
   "source": [
    "# add hdf file extension to geom_file if it exists\n",
    "plan_df['geom_file_hdf'] = plan_df['geom_file'].apply(lambda x: Path(f'{x}.hdf') if Path(f'{x}.hdf').exists() else None)\n",
    "plan_df"
   ]
  },
  {
   "cell_type": "code",
   "execution_count": null,
   "metadata": {},
   "outputs": [],
   "source": [
    "# add hdf file extension to plan_file if it exists\n",
    "plan_df['plan_file_hdf'] = plan_df['plan_file'].apply(lambda x: Path(f'{x}.hdf') if Path(f'{x}.hdf').exists() else None)\n",
    "plan_df"
   ]
  },
  {
   "cell_type": "code",
   "execution_count": null,
   "metadata": {},
   "outputs": [],
   "source": [
    "cTRL01_Laura2020_B = plan_df.loc['Laura 2020']"
   ]
  },
  {
   "cell_type": "code",
   "execution_count": null,
   "metadata": {},
   "outputs": [],
   "source": [
    "cTRL01_Laura2020_B['plan_file']"
   ]
  },
  {
   "cell_type": "code",
   "execution_count": null,
   "metadata": {},
   "outputs": [],
   "source": [
    "# define the function to get the file dataframe from the model path\n",
    "def get_model_info(model_path):\n",
    "    # find the projection file\n",
    "    for child in Path(model_path).glob('*.prj'):\n",
    "        if child.is_file():\n",
    "            prj_file=child\n",
    "\n",
    "    # read the project file and get the plan file extension\n",
    "    prj_file_list=(Path.read_text(prj_file).split(\"\\n\"))\n",
    "    plan_list = [f'.{x.split(\"=\")[-1]}' for x in prj_file_list if x.startswith(\"Plan File=\")]\n",
    "\n",
    "    # find all files whose extension is in plan_list return the full path\n",
    "    plan_file_list = [x for x in Path(model_path).glob('*') if x.suffix in plan_list]\n",
    "\n",
    "    # create a dictionary of plan names and file paths the name is found in the plan file\n",
    "    plan_dict = {}\n",
    "    for plan_file in plan_file_list:\n",
    "        plan_name = Path.read_text(plan_file).split(\"\\n\")[0].split(\"=\")[-1]\n",
    "        plan_dict[plan_name] = plan_file\n",
    "\n",
    "    # create a dataframe of plan names and file paths\n",
    "    plan_df = pd.DataFrame.from_dict(plan_dict, orient='index', columns=['plan_file'])\n",
    "\n",
    "    # add the plans geometry file to plan_df\n",
    "    plan_df['geom_file'] = plan_df['plan_file'].apply(lambda x: Path.read_text(x).split(\"\\n\")[4].split(\"=\")[-1])\n",
    "\n",
    "    # use glob to find the geometry file\n",
    "    plan_df['geom_file'] = plan_df['geom_file'].apply(lambda x: [y for y in Path(model_path).glob(f'*{x}')][0])\n",
    "\n",
    "    # add hdf file extension to geom_file if it exists\n",
    "    plan_df['geom_file_hdf'] = plan_df['geom_file'].apply(lambda x: Path(f'{x}.hdf') if Path(f'{x}.hdf').exists() else None)\n",
    "\n",
    "    # add hdf file extension to plan_file if it exists\n",
    "    plan_df['plan_file_hdf'] = plan_df['plan_file'].apply(lambda x: Path(f'{x}.hdf') if Path(f'{x}.hdf').exists() else None)\n",
    "\n",
    "    return plan_df"
   ]
  },
  {
   "cell_type": "code",
   "execution_count": null,
   "metadata": {},
   "outputs": [],
   "source": [
    "get_model_info('../../simulation/')"
   ]
  },
  {
   "attachments": {},
   "cell_type": "markdown",
   "metadata": {},
   "source": [
    " ### get_sim_stats\n",
    "\n",
    " This function needs to return runtimes and volume error in acre feet and percentage for each plan in the model"
   ]
  },
  {
   "cell_type": "code",
   "execution_count": null,
   "metadata": {},
   "outputs": [],
   "source": []
  },
  {
   "attachments": {},
   "cell_type": "markdown",
   "metadata": {},
   "source": [
    " ### edit_manning_values"
   ]
  },
  {
   "cell_type": "code",
   "execution_count": 13,
   "metadata": {},
   "outputs": [
    {
     "data": {
      "text/plain": [
       "WindowsPath('../../simulation/WF_WestForkCalcasieu.g04')"
      ]
     },
     "execution_count": 13,
     "metadata": {},
     "output_type": "execute_result"
    }
   ],
   "source": [
    "test_goemetry_path=model.geom_file.ctrl01_laura_2020_b\n",
    "test_goemetry_path"
   ]
  },
  {
   "cell_type": "code",
   "execution_count": 21,
   "metadata": {},
   "outputs": [
    {
     "data": {
      "text/plain": [
       "154029"
      ]
     },
     "execution_count": 21,
     "metadata": {},
     "output_type": "execute_result"
    }
   ],
   "source": [
    "test_geo=Path.read_text(test_goemetry_path)\n",
    "test_geo=list(test_geo.split(\"\\n\"))\n",
    "# create a dataframe of the geometry file\n",
    "test_geo_df=pd.DataFrame(test_geo)\n",
    "# find rows between the start and end of the mannings n values and create a dataframe, they will start with \"LCMann Region Name\" and end with \"LCMann Region Polygon\"\n",
    "test_geo_df[test_geo_df[0].str.contains(\"LCMann Region Name\")].index[0]"
   ]
  },
  {
   "cell_type": "code",
   "execution_count": 22,
   "metadata": {},
   "outputs": [
    {
     "data": {
      "text/plain": [
       "154048"
      ]
     },
     "execution_count": 22,
     "metadata": {},
     "output_type": "execute_result"
    }
   ],
   "source": [
    "test_geo_df[test_geo_df[0].str.contains(\"LCMann Region Polygon\")].index[0]"
   ]
  },
  {
   "cell_type": "code",
   "execution_count": 38,
   "metadata": {},
   "outputs": [
    {
     "name": "stdout",
     "output_type": "stream",
     "text": [
      "Mannings desc (start) count: 119\n",
      "Mannings desc (end) count: 119\n"
     ]
    }
   ],
   "source": [
    "# return each index that starts with \"LCMann Region Name\"\n",
    "starts=test_geo_df[test_geo_df[0].str.contains(\"LCMann Region Name\")].index\n",
    "# return each index that ends with \"LCMann Region Polygon\"\n",
    "ends=test_geo_df[test_geo_df[0].str.contains(\"LCMann Region Polygon\")].index\n",
    "print(f'Mannings desc (start) count: {len(test_geo_df[test_geo_df[0].str.contains(\"LCMann Region Name\")].index)}\\nMannings desc (end) count: {len(test_geo_df[test_geo_df[0].str.contains(\"LCMann Region Polygon\")].index)}')"
   ]
  },
  {
   "cell_type": "code",
   "execution_count": 42,
   "metadata": {},
   "outputs": [
    {
     "data": {
      "text/plain": [
       "[(154029, 154048),\n",
       " (154584, 154603),\n",
       " (155272, 155291),\n",
       " (155925, 155944),\n",
       " (156510, 156529),\n",
       " (156790, 156809),\n",
       " (157633, 157652),\n",
       " (158898, 158917),\n",
       " (159533, 159552),\n",
       " (159819, 159838),\n",
       " (160426, 160445),\n",
       " (160766, 160785),\n",
       " (161443, 161462),\n",
       " (161524, 161543),\n",
       " (161760, 161779),\n",
       " (162388, 162407),\n",
       " (162956, 162975),\n",
       " (163122, 163141),\n",
       " (163227, 163246),\n",
       " (163534, 163553),\n",
       " (163906, 163925),\n",
       " (164445, 164464),\n",
       " (164985, 165004),\n",
       " (165372, 165391),\n",
       " (167545, 167564),\n",
       " (167724, 167743),\n",
       " (167912, 167931),\n",
       " (168038, 168057),\n",
       " (168170, 168186),\n",
       " (168208, 168224),\n",
       " (169594, 169610),\n",
       " (170123, 170139),\n",
       " (170548, 170564),\n",
       " (171059, 171075),\n",
       " (171736, 171752),\n",
       " (171767, 171783),\n",
       " (172034, 172050),\n",
       " (172529, 172545),\n",
       " (174143, 174159),\n",
       " (177700, 177712),\n",
       " (181147, 181159),\n",
       " (181372, 181384),\n",
       " (181596, 181608),\n",
       " (181947, 181959),\n",
       " (182288, 182300),\n",
       " (182728, 182740),\n",
       " (182950, 182962),\n",
       " (183235, 183247),\n",
       " (183889, 183901),\n",
       " (184547, 184557),\n",
       " (185097, 185107),\n",
       " (185614, 185624),\n",
       " (187112, 187122),\n",
       " (188145, 188155),\n",
       " (189852, 189862),\n",
       " (190174, 190184),\n",
       " (190385, 190395),\n",
       " (192818, 192828),\n",
       " (193162, 193172),\n",
       " (193328, 193338),\n",
       " (193622, 193639),\n",
       " (193899, 193916),\n",
       " (195016, 195033),\n",
       " (195379, 195396),\n",
       " (197423, 197440),\n",
       " (202547, 202564),\n",
       " (203608, 203625),\n",
       " (204283, 204300),\n",
       " (205440, 205457),\n",
       " (206446, 206463),\n",
       " (207165, 207182),\n",
       " (207805, 207822),\n",
       " (207881, 207898),\n",
       " (209461, 209478),\n",
       " (210421, 210438),\n",
       " (210742, 210759),\n",
       " (210958, 210975),\n",
       " (211320, 211337),\n",
       " (211435, 211452),\n",
       " (211485, 211502),\n",
       " (211842, 211859),\n",
       " (212585, 212602),\n",
       " (212918, 212935),\n",
       " (213986, 214003),\n",
       " (214686, 214703),\n",
       " (215117, 215134),\n",
       " (216576, 216593),\n",
       " (216704, 216721),\n",
       " (217373, 217388),\n",
       " (217812, 217827),\n",
       " (221001, 221016),\n",
       " (223635, 223650),\n",
       " (224124, 224139),\n",
       " (224866, 224881),\n",
       " (224955, 224970),\n",
       " (225322, 225337),\n",
       " (226127, 226142),\n",
       " (226549, 226564),\n",
       " (226684, 226699),\n",
       " (229252, 229264),\n",
       " (230455, 230467),\n",
       " (231787, 231799),\n",
       " (231819, 231831),\n",
       " (232077, 232089),\n",
       " (232180, 232192),\n",
       " (232527, 232539),\n",
       " (232788, 232800),\n",
       " (232908, 232920),\n",
       " (233358, 233370),\n",
       " (234138, 234148),\n",
       " (234646, 234656),\n",
       " (235207, 235217),\n",
       " (235772, 235782),\n",
       " (241306, 241316),\n",
       " (241603, 241613),\n",
       " (242590, 242600),\n",
       " (244727, 244737),\n",
       " (244814, 244824),\n",
       " (245022, 245032)]"
      ]
     },
     "execution_count": 42,
     "metadata": {},
     "output_type": "execute_result"
    }
   ],
   "source": [
    "#  zip the start and end indexes together\n",
    "mannings_index=list(zip(starts,ends))\n",
    "mannings_index"
   ]
  },
  {
   "cell_type": "code",
   "execution_count": 46,
   "metadata": {},
   "outputs": [
    {
     "data": {
      "text/html": [
       "<div>\n",
       "<style scoped>\n",
       "    .dataframe tbody tr th:only-of-type {\n",
       "        vertical-align: middle;\n",
       "    }\n",
       "\n",
       "    .dataframe tbody tr th {\n",
       "        vertical-align: top;\n",
       "    }\n",
       "\n",
       "    .dataframe thead th {\n",
       "        text-align: right;\n",
       "    }\n",
       "</style>\n",
       "<table border=\"1\" class=\"dataframe\">\n",
       "  <thead>\n",
       "    <tr style=\"text-align: right;\">\n",
       "      <th></th>\n",
       "      <th>0</th>\n",
       "    </tr>\n",
       "  </thead>\n",
       "  <tbody>\n",
       "    <tr>\n",
       "      <th>154029</th>\n",
       "      <td>LCMann Region Name=WFCalcRi_1</td>\n",
       "    </tr>\n",
       "    <tr>\n",
       "      <th>154030</th>\n",
       "      <td>LCMann Region Table=17</td>\n",
       "    </tr>\n",
       "    <tr>\n",
       "      <th>154031</th>\n",
       "      <td>NoData,0.04</td>\n",
       "    </tr>\n",
       "    <tr>\n",
       "      <th>154032</th>\n",
       "      <td>255,0.04</td>\n",
       "    </tr>\n",
       "    <tr>\n",
       "      <th>154033</th>\n",
       "      <td>Open Water,0.04</td>\n",
       "    </tr>\n",
       "    <tr>\n",
       "      <th>154034</th>\n",
       "      <td>Developed, Open Space,0.04</td>\n",
       "    </tr>\n",
       "    <tr>\n",
       "      <th>154035</th>\n",
       "      <td>Developed, Low Intensity,0.04</td>\n",
       "    </tr>\n",
       "    <tr>\n",
       "      <th>154036</th>\n",
       "      <td>Developed, Medium Intensity,0.04</td>\n",
       "    </tr>\n",
       "    <tr>\n",
       "      <th>154037</th>\n",
       "      <td>Developed, High Intensity,0.04</td>\n",
       "    </tr>\n",
       "    <tr>\n",
       "      <th>154038</th>\n",
       "      <td>Barren Land Rock-Sand-Clay,0.04</td>\n",
       "    </tr>\n",
       "    <tr>\n",
       "      <th>154039</th>\n",
       "      <td>Deciduous Forest,0.04</td>\n",
       "    </tr>\n",
       "    <tr>\n",
       "      <th>154040</th>\n",
       "      <td>Evergreen Forest,0.04</td>\n",
       "    </tr>\n",
       "    <tr>\n",
       "      <th>154041</th>\n",
       "      <td>Mixed Forest,0.04</td>\n",
       "    </tr>\n",
       "    <tr>\n",
       "      <th>154042</th>\n",
       "      <td>Shrub-Scrub,0.04</td>\n",
       "    </tr>\n",
       "    <tr>\n",
       "      <th>154043</th>\n",
       "      <td>Grassland-Herbaceous,0.04</td>\n",
       "    </tr>\n",
       "    <tr>\n",
       "      <th>154044</th>\n",
       "      <td>Pasture-Hay,0.04</td>\n",
       "    </tr>\n",
       "    <tr>\n",
       "      <th>154045</th>\n",
       "      <td>Cultivated Crops,0.04</td>\n",
       "    </tr>\n",
       "    <tr>\n",
       "      <th>154046</th>\n",
       "      <td>Woody Wetlands,0.04</td>\n",
       "    </tr>\n",
       "    <tr>\n",
       "      <th>154047</th>\n",
       "      <td>Emergent Herbaceous Wetlands,0.04</td>\n",
       "    </tr>\n",
       "    <tr>\n",
       "      <th>154048</th>\n",
       "      <td>LCMann Region Polygon=1070</td>\n",
       "    </tr>\n",
       "  </tbody>\n",
       "</table>\n",
       "</div>"
      ],
      "text/plain": [
       "                                        0\n",
       "154029      LCMann Region Name=WFCalcRi_1\n",
       "154030             LCMann Region Table=17\n",
       "154031                        NoData,0.04\n",
       "154032                           255,0.04\n",
       "154033                    Open Water,0.04\n",
       "154034         Developed, Open Space,0.04\n",
       "154035      Developed, Low Intensity,0.04\n",
       "154036   Developed, Medium Intensity,0.04\n",
       "154037     Developed, High Intensity,0.04\n",
       "154038    Barren Land Rock-Sand-Clay,0.04\n",
       "154039              Deciduous Forest,0.04\n",
       "154040              Evergreen Forest,0.04\n",
       "154041                  Mixed Forest,0.04\n",
       "154042                   Shrub-Scrub,0.04\n",
       "154043          Grassland-Herbaceous,0.04\n",
       "154044                   Pasture-Hay,0.04\n",
       "154045              Cultivated Crops,0.04\n",
       "154046                Woody Wetlands,0.04\n",
       "154047  Emergent Herbaceous Wetlands,0.04\n",
       "154048         LCMann Region Polygon=1070"
      ]
     },
     "execution_count": 46,
     "metadata": {},
     "output_type": "execute_result"
    }
   ],
   "source": [
    "# use the manning indexes to create a dictionary of dataframes for each manning region with LCMann Region Name as the key\n",
    "mannings_dict={}\n",
    "for x in mannings_index:\n",
    "    mannings_dict[test_geo_df.iloc[x[0]][0].split(\"=\")[-1]]=test_geo_df.iloc[x[0]:x[1]+1]\n",
    "\n",
    "mannings_dict['WFCalcRi_1']"
   ]
  },
  {
   "cell_type": "code",
   "execution_count": 26,
   "metadata": {},
   "outputs": [],
   "source": [
    "# return the rows between the start and end of the mannings n values\n",
    "mann_df0=test_geo_df.iloc[test_geo_df[test_geo_df[0].str.contains(\"LCMann Region Name\")].index[0]:test_geo_df[test_geo_df[0].str.contains(\"LCMann Region Polygon\")].index[0]]"
   ]
  },
  {
   "cell_type": "code",
   "execution_count": 25,
   "metadata": {},
   "outputs": [
    {
     "ename": "NameError",
     "evalue": "name 'plan_df' is not defined",
     "output_type": "error",
     "traceback": [
      "\u001b[1;31m---------------------------------------------------------------------------\u001b[0m",
      "\u001b[1;31mNameError\u001b[0m                                 Traceback (most recent call last)",
      "Cell \u001b[1;32mIn[25], line 2\u001b[0m\n\u001b[0;32m      1\u001b[0m \u001b[39m# iterate through the main dataframe and get each mannings n dataframe like above\u001b[39;00m\n\u001b[1;32m----> 2\u001b[0m \u001b[39mfor\u001b[39;00m x \u001b[39min\u001b[39;00m plan_df\u001b[39m.\u001b[39mindex:\n\u001b[0;32m      3\u001b[0m     plan_df\u001b[39m.\u001b[39mloc[x,\u001b[39m'\u001b[39m\u001b[39mmannings_n_df\u001b[39m\u001b[39m'\u001b[39m] \u001b[39m=\u001b[39m pd\u001b[39m.\u001b[39mDataFrame(plan_df\u001b[39m.\u001b[39mloc[x,\u001b[39m'\u001b[39m\u001b[39mgeom_file\u001b[39m\u001b[39m'\u001b[39m]\u001b[39m.\u001b[39mread_text()\u001b[39m.\u001b[39msplit(\u001b[39m\"\u001b[39m\u001b[39m\\n\u001b[39;00m\u001b[39m\"\u001b[39m)[plan_df\u001b[39m.\u001b[39mloc[x,\u001b[39m'\u001b[39m\u001b[39mgeom_file\u001b[39m\u001b[39m'\u001b[39m]\u001b[39m.\u001b[39mread_text()\u001b[39m.\u001b[39msplit(\u001b[39m\"\u001b[39m\u001b[39m\\n\u001b[39;00m\u001b[39m\"\u001b[39m)\u001b[39m.\u001b[39mindex(\u001b[39m\"\u001b[39m\u001b[39mLCMann Region Name\u001b[39m\u001b[39m\"\u001b[39m):plan_df\u001b[39m.\u001b[39mloc[x,\u001b[39m'\u001b[39m\u001b[39mgeom_file\u001b[39m\u001b[39m'\u001b[39m]\u001b[39m.\u001b[39mread_text()\u001b[39m.\u001b[39msplit(\u001b[39m\"\u001b[39m\u001b[39m\\n\u001b[39;00m\u001b[39m\"\u001b[39m)\u001b[39m.\u001b[39mindex(\u001b[39m\"\u001b[39m\u001b[39mLCMann Region Polygon\u001b[39m\u001b[39m\"\u001b[39m)])\n\u001b[0;32m      4\u001b[0m plan_df\n",
      "\u001b[1;31mNameError\u001b[0m: name 'plan_df' is not defined"
     ]
    }
   ],
   "source": [
    "# iterate through the main dataframe and get each mannings n dataframe like above\n",
    "for x in plan_df.index:\n",
    "    plan_df.loc[x,'mannings_n_df'] = pd.DataFrame(plan_df.loc[x,'geom_file'].read_text().split(\"\\n\")[plan_df.loc[x,'geom_file'].read_text().split(\"\\n\").index(\"LCMann Region Name\"):plan_df.loc[x,'geom_file'].read_text().split(\"\\n\").index(\"LCMann Region Polygon\")])\n",
    "plan_df"
   ]
  },
  {
   "cell_type": "code",
   "execution_count": 1,
   "metadata": {},
   "outputs": [],
   "source": [
    "# class RASrun():\n",
    "\n",
    "#     def compObserved_Sim(hdf_loc, observed_csv, gageVector, projection):\n",
    "#         # Read in the observed data (this has to be prepared first)\n",
    "#         observed = pd.read_csv(observed_csv, index_col=0, parse_dates=True)\n",
    "#         # change to column names to strings\n",
    "#         observed.columns = observed.columns.astype(str)\n",
    "\n",
    "#         # Read in the gage shapefile and filter to the gage of interest\n",
    "#         gageVec=gpd.read_file(gageVector)\n",
    "#         # turn gageVec to a geodataframe\n",
    "#         gageVec=gpd.GeoDataFrame(gageVec)\n",
    "\n",
    "#         # Read in the boundary\n",
    "#         boundary=RAS_Utility.get_2d_boundary(hdf_loc, projection)\n",
    "\n",
    "#         # clip the gages to the boundary\n",
    "#         gageVec=gageVec[gageVec.within(boundary.geometry[0])]\n",
    "\n",
    "#         # reproject the gages to the same projection as the boundary\n",
    "#         gageVec=gageVec.to_crs(boundary.crs, inplace=True)\n",
    "\n",
    "#         # Read in the cell coordinates\n",
    "#         cell_coords=RAS_Utility.get_cell_cords(hdf_loc)\n",
    "\n",
    "#         # spatially join the gages to the cell coordinates\n",
    "#         cell_gageVec=gpd.sjoin_nearest(gageVec, cell_coords, how='left')\n",
    "\n",
    "#         # keep only the site id, cell id, and geometry\n",
    "#         cell_gageVec=cell_gageVec[['SITE_ID','cell','geometry']]\n",
    "\n",
    "#         # filter the rows to only the gage of interest\n",
    "#         cell_gageVec=cell_gageVec[cell_gageVec.SITE_ID.isin(observed.columns)]\n",
    "\n",
    "#         # create an empty dataframe to hold the simulated data\n",
    "#         sim=pd.DataFrame(index=observed.index)\n",
    "#         for cell in cell_gageVec.cell:\n",
    "#             cell_gageVec.cell=np.nan\n",
    "\n",
    "#         # Read in the simulated data\n",
    "#         simulated=RAS_Utility.get_cell_wse(hdf_loc)\n",
    "\n",
    "#         # fill the dataframe with the simulated data\n",
    "#         for cell in cell_gageVec.cell:\n",
    "#             sim[str(cell)]=simulated[cell].values\n",
    "\n",
    "#         # assign the proper site id to the simulated data\n",
    "#         sim.columns=cell_gageVec.set_index('cell').SITE_ID\n",
    "\n",
    "#         # create a holomap of the observed and simulated data\n",
    "#         calibrate_map=hv.HoloMap({site:hv.Curve(sim[site]).opts(color='red')*hv.Curve(observed[site]).opts(color='blue') for site in sim.columns}, kdims='Site')\n",
    "\n",
    "#         return calibrate_map.opts(title='Observed vs. Simulated', xlabel='Date', ylabel='Water Surface Elevation (m)')\n",
    "    \n",
    "# viz = Viz"
   ]
  },
  {
   "cell_type": "code",
   "execution_count": null,
   "metadata": {},
   "outputs": [],
   "source": []
  }
 ],
 "metadata": {
  "kernelspec": {
   "display_name": "lwi-apps",
   "language": "python",
   "name": "python3"
  },
  "language_info": {
   "codemirror_mode": {
    "name": "ipython",
    "version": 3
   },
   "file_extension": ".py",
   "mimetype": "text/x-python",
   "name": "python",
   "nbconvert_exporter": "python",
   "pygments_lexer": "ipython3",
   "version": "3.10.8"
  },
  "orig_nbformat": 4,
  "vscode": {
   "interpreter": {
    "hash": "4f4606d988262abfc88719a279f7be0e35d912993e56029b0ee5397d897cb266"
   }
  }
 },
 "nbformat": 4,
 "nbformat_minor": 2
}
