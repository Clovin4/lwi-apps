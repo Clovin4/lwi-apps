{
 "cells": [
  {
   "cell_type": "code",
   "execution_count": 1,
   "metadata": {},
   "outputs": [],
   "source": [
    "import pandas as pd\n",
    "import numpy as np\n",
    "import geopandas as gpd\n",
    "import rasterio\n",
    "\n",
    "import os, h5py\n",
    "from pathlib import Path\n",
    "import openpyxl\n",
    "\n",
    "import holoviews as hv"
   ]
  },
  {
   "cell_type": "code",
   "execution_count": 2,
   "metadata": {},
   "outputs": [],
   "source": [
    "import sys\n",
    "sys.path.append('../../src/')\n",
    "from utility_code import RAS_Utility\n",
    "ras = RAS_Utility()"
   ]
  },
  {
   "attachments": {},
   "cell_type": "markdown",
   "metadata": {},
   "source": [
    " ### Compare CPPJ Rankings and Modeled Structures - 01-16-2023"
   ]
  },
  {
   "cell_type": "code",
   "execution_count": 7,
   "metadata": {},
   "outputs": [],
   "source": [
    "wf_structures_ranked_loc = r'C:\\Users\\christianl\\repos\\lwi-apps\\data\\interim\\WF_CPPJStructures_Ranked.xlsx'\n",
    "wf_structures_ranked = pd.read_excel(wf_structures_ranked_loc)"
   ]
  },
  {
   "cell_type": "code",
   "execution_count": 9,
   "metadata": {},
   "outputs": [],
   "source": [
    "wf_structures_ranked_name_set = set(wf_structures_ranked.Name)"
   ]
  },
  {
   "cell_type": "code",
   "execution_count": 20,
   "metadata": {},
   "outputs": [],
   "source": [
    "hdf_loc = Path(r'C:\\Users\\christianl\\repos\\WF_Analysis\\read_hdf\\WF_WestForkCalcasieu.g04.hdf')"
   ]
  },
  {
   "cell_type": "code",
   "execution_count": 65,
   "metadata": {},
   "outputs": [],
   "source": [
    "model_structures = ras.get_hdf_datasets(hdf_loc)"
   ]
  },
  {
   "cell_type": "code",
   "execution_count": 66,
   "metadata": {},
   "outputs": [],
   "source": [
    "model_structure_name_set = set(model_structures.Connection)"
   ]
  },
  {
   "attachments": {},
   "cell_type": "markdown",
   "metadata": {},
   "source": [
    "compare names"
   ]
  },
  {
   "cell_type": "code",
   "execution_count": 67,
   "metadata": {},
   "outputs": [
    {
     "data": {
      "text/plain": [
       "{'STR-141',\n",
       " 'STR-176-CB',\n",
       " 'STR-257 (Clvt)',\n",
       " 'STR-268',\n",
       " 'STR-317: PRVT',\n",
       " 'STR-319: PRVT',\n",
       " 'STR-37'}"
      ]
     },
     "execution_count": 67,
     "metadata": {},
     "output_type": "execute_result"
    }
   ],
   "source": [
    "wf_structures_ranked_name_set.difference(model_structure_name_set)"
   ]
  },
  {
   "cell_type": "code",
   "execution_count": 68,
   "metadata": {},
   "outputs": [
    {
     "data": {
      "text/plain": [
       "set()"
      ]
     },
     "execution_count": 68,
     "metadata": {},
     "output_type": "execute_result"
    }
   ],
   "source": [
    "model_structure_name_set.difference(wf_structures_ranked_name_set)"
   ]
  },
  {
   "cell_type": "code",
   "execution_count": 69,
   "metadata": {},
   "outputs": [
    {
     "data": {
      "text/html": [
       "<div>\n",
       "<style scoped>\n",
       "    .dataframe tbody tr th:only-of-type {\n",
       "        vertical-align: middle;\n",
       "    }\n",
       "\n",
       "    .dataframe tbody tr th {\n",
       "        vertical-align: top;\n",
       "    }\n",
       "\n",
       "    .dataframe thead th {\n",
       "        text-align: right;\n",
       "    }\n",
       "</style>\n",
       "<table border=\"1\" class=\"dataframe\">\n",
       "  <thead>\n",
       "    <tr style=\"text-align: right;\">\n",
       "      <th></th>\n",
       "      <th>Unnamed: 0</th>\n",
       "      <th>fid</th>\n",
       "      <th>Model</th>\n",
       "      <th>Type</th>\n",
       "      <th>Name</th>\n",
       "      <th>25yrOver</th>\n",
       "      <th>25yrDiff</th>\n",
       "      <th>RoadClass</th>\n",
       "      <th>StreamOrd</th>\n",
       "      <th>DetailSur</th>\n",
       "      <th>NormalOT</th>\n",
       "      <th>NormalHD</th>\n",
       "      <th>NormalRC</th>\n",
       "      <th>NormalSO</th>\n",
       "      <th>NormalDS</th>\n",
       "      <th>FinalRank</th>\n",
       "      <th>Notes</th>\n",
       "      <th>geometry</th>\n",
       "    </tr>\n",
       "  </thead>\n",
       "  <tbody>\n",
       "    <tr>\n",
       "      <th>51</th>\n",
       "      <td>51</td>\n",
       "      <td>52</td>\n",
       "      <td>HR_RAS_2022.p52</td>\n",
       "      <td>Connection</td>\n",
       "      <td>STR-73</td>\n",
       "      <td>-4.92</td>\n",
       "      <td>3.11</td>\n",
       "      <td>NaN</td>\n",
       "      <td>4.0</td>\n",
       "      <td>High Need</td>\n",
       "      <td>0.34</td>\n",
       "      <td>0.41</td>\n",
       "      <td>0.0</td>\n",
       "      <td>0.5</td>\n",
       "      <td>1.0</td>\n",
       "      <td>2.25</td>\n",
       "      <td>NaN</td>\n",
       "      <td>LINESTRING (2625919.20685117 714983.678800375,...</td>\n",
       "    </tr>\n",
       "  </tbody>\n",
       "</table>\n",
       "</div>"
      ],
      "text/plain": [
       "    Unnamed: 0  fid            Model        Type    Name  25yrOver  25yrDiff  \\\n",
       "51          51   52  HR_RAS_2022.p52  Connection  STR-73     -4.92      3.11   \n",
       "\n",
       "   RoadClass  StreamOrd  DetailSur  NormalOT  NormalHD  NormalRC  NormalSO  \\\n",
       "51       NaN        4.0  High Need      0.34      0.41       0.0       0.5   \n",
       "\n",
       "    NormalDS  FinalRank  Notes  \\\n",
       "51       1.0       2.25    NaN   \n",
       "\n",
       "                                             geometry  \n",
       "51  LINESTRING (2625919.20685117 714983.678800375,...  "
      ]
     },
     "execution_count": 69,
     "metadata": {},
     "output_type": "execute_result"
    }
   ],
   "source": [
    "wf_structures_ranked.loc[wf_structures_ranked.Name == 'STR-73']"
   ]
  },
  {
   "cell_type": "code",
   "execution_count": null,
   "metadata": {},
   "outputs": [],
   "source": []
  },
  {
   "attachments": {},
   "cell_type": "markdown",
   "metadata": {},
   "source": [
    " ### Compare CPPJ Rankings and Modeled Structures - 01-17-2023"
   ]
  },
  {
   "cell_type": "code",
   "execution_count": 9,
   "metadata": {},
   "outputs": [],
   "source": [
    "ward1_hdf_loc = Path(r'C:\\Users\\christianl\\repos\\lwi-apps\\simulation\\WF_WestForkCalcasieu.g05.hdf')\n",
    "houstion_hdf_loc = Path(r'C:\\Users\\christianl\\repos\\lwi-apps\\simulation\\WF_WestForkCalcasieu.g06.hdf')\n",
    "sulfur_hdf_loc = Path(r'C:\\Users\\christianl\\repos\\lwi-apps\\simulation\\WF_WestForkCalcasieu.g07.hdf')"
   ]
  },
  {
   "cell_type": "code",
   "execution_count": 10,
   "metadata": {},
   "outputs": [],
   "source": [
    "ward1_structure_names=ras.get_hdf_datasets(ward1_hdf_loc).Connection\n",
    "houstion_structure_names=ras.get_hdf_datasets(houstion_hdf_loc).Connection\n",
    "sulfur_structure_names=ras.get_hdf_datasets(sulfur_hdf_loc).Connection"
   ]
  },
  {
   "cell_type": "code",
   "execution_count": 20,
   "metadata": {},
   "outputs": [],
   "source": [
    "# import CPPJ Rankings\n",
    "wf_structures_ranked_loc = r'C:\\Users\\christianl\\repos\\lwi-apps\\data\\interim\\WF_CPPJStructures_Ranked.xlsx'\n",
    "wf_structures_ranked = pd.read_excel(wf_structures_ranked_loc)"
   ]
  },
  {
   "cell_type": "code",
   "execution_count": 21,
   "metadata": {},
   "outputs": [
    {
     "data": {
      "text/plain": [
       "array(['CB_RAS_61_DwnStr.p05', 'HR_RAS_2022.p52', 'Sulphur.p04',\n",
       "       'ward_1.p04'], dtype=object)"
      ]
     },
     "execution_count": 21,
     "metadata": {},
     "output_type": "execute_result"
    }
   ],
   "source": [
    "wf_structures_ranked.Model.unique()"
   ]
  },
  {
   "attachments": {},
   "cell_type": "markdown",
   "metadata": {},
   "source": [
    "Discrepancies in Log and RAS have been identified"
   ]
  },
  {
   "cell_type": "code",
   "execution_count": null,
   "metadata": {},
   "outputs": [],
   "source": []
  }
 ],
 "metadata": {
  "kernelspec": {
   "display_name": "lwi-apps",
   "language": "python",
   "name": "python3"
  },
  "language_info": {
   "codemirror_mode": {
    "name": "ipython",
    "version": 3
   },
   "file_extension": ".py",
   "mimetype": "text/x-python",
   "name": "python",
   "nbconvert_exporter": "python",
   "pygments_lexer": "ipython3",
   "version": "3.10.8 | packaged by conda-forge | (main, Nov 22 2022, 08:16:33) [MSC v.1929 64 bit (AMD64)]"
  },
  "orig_nbformat": 4,
  "vscode": {
   "interpreter": {
    "hash": "4f4606d988262abfc88719a279f7be0e35d912993e56029b0ee5397d897cb266"
   }
  }
 },
 "nbformat": 4,
 "nbformat_minor": 2
}
